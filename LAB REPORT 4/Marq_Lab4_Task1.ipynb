{
  "nbformat": 4,
  "nbformat_minor": 0,
  "metadata": {
    "colab": {
      "name": "Marq_Lab4_Task1.ipynb",
      "provenance": [],
      "authorship_tag": "ABX9TyMz6Xf8tGAlZ5S8Dz8sWmwK",
      "include_colab_link": true
    },
    "kernelspec": {
      "name": "python3",
      "display_name": "Python 3"
    }
  },
  "cells": [
    {
      "cell_type": "markdown",
      "metadata": {
        "id": "view-in-github",
        "colab_type": "text"
      },
      "source": [
        "<a href=\"https://colab.research.google.com/github/bheanne/LinearAlgebra/blob/main/LAB%20REPORT%204/Marq_Lab4_Task1.ipynb\" target=\"_parent\"><img src=\"https://colab.research.google.com/assets/colab-badge.svg\" alt=\"Open In Colab\"/></a>"
      ]
    },
    {
      "cell_type": "markdown",
      "metadata": {
        "id": "8X-wZFo0zopu"
      },
      "source": [
        "# **Task 1**"
      ]
    },
    {
      "cell_type": "markdown",
      "metadata": {
        "id": "cgU3AxmNzyYI"
      },
      "source": [
        "***with NumPy's preset function***"
      ]
    },
    {
      "cell_type": "code",
      "metadata": {
        "colab": {
          "base_uri": "https://localhost:8080/"
        },
        "id": "Lt10oI_IlweL",
        "outputId": "0e50c86b-9b1a-4ca9-cc43-bff8a0bb789d"
      },
      "source": [
        "import numpy as np\r\n",
        "\r\n",
        "##Vectors\r\n",
        "Vone = np.array([6,12,18,24])\r\n",
        "Vtwo = np.array([7,14,21,28])\r\n",
        "Vthree = np.array([8,16,24,32])\r\n",
        "Vfour = np.array([9,18,27,36])\r\n",
        "Vfive = np.array([11,21,1,25])\r\n",
        "Vsix = np.array([12,30,2,4])\r\n",
        "\r\n",
        "## FIRST VECTOR Vone \r\n",
        "print(\"\\n⊹˙⋆°••°⋆˙⊹•°⋆˙⊹•°⋆˙⊹•°⋆˙⊹•°⋆˙⊹✭⊹˙⋆°•⊹˙⋆°•⊹˙⋆°•⊹˙⋆°•⊹˙⋆°••°⋆˙⊹\")\r\n",
        "print(\"\\nThe values of the 1st Vector are:    \",Vone)\r\n",
        "print(\"\\nThe modulus of the 1st Vector:       \",np.linalg.norm(Vone))\r\n",
        "\r\n",
        "## SECOND VECTOR Vtwo\r\n",
        "print(\"\\n⊹˙⋆°••°⋆˙⊹•°⋆˙⊹•°⋆˙⊹•°⋆˙⊹•°⋆˙⊹✭⊹˙⋆°•⊹˙⋆°•⊹˙⋆°•⊹˙⋆°•⊹˙⋆°••°⋆˙⊹\")\r\n",
        "print(\"\\nThe values of the 2nd Vector are:    \",Vtwo)\r\n",
        "print(\"\\nThe modulus of the 2nd Vector:       \",np.linalg.norm(Vtwo))\r\n",
        "\r\n",
        "## THIRD VECTOR Vthree\r\n",
        "print(\"\\n⊹˙⋆°••°⋆˙⊹•°⋆˙⊹•°⋆˙⊹•°⋆˙⊹•°⋆˙⊹✭⊹˙⋆°•⊹˙⋆°•⊹˙⋆°•⊹˙⋆°•⊹˙⋆°••°⋆˙⊹\")\r\n",
        "print(\"\\nThe values of the 3rd Vector are:    \",Vthree)\r\n",
        "print(\"\\nThe modulus of the 3rd Vector:       \",np.linalg.norm(Vthree))\r\n",
        "\r\n",
        "## FOURTH VECTOR Vfour\r\n",
        "print(\"\\n⊹˙⋆°••°⋆˙⊹•°⋆˙⊹•°⋆˙⊹•°⋆˙⊹•°⋆˙⊹✭⊹˙⋆°•⊹˙⋆°•⊹˙⋆°•⊹˙⋆°•⊹˙⋆°••°⋆˙⊹\")\r\n",
        "print(\"\\nThe values of the 4th Vector are:    \",Vfour)\r\n",
        "print(\"\\nThe modulus of the 4th Vector:       \",np.linalg.norm(Vfour))\r\n",
        "\r\n",
        "## FIFTH VECTOR Vfive\r\n",
        "print(\"\\n⊹˙⋆°••°⋆˙⊹•°⋆˙⊹•°⋆˙⊹•°⋆˙⊹•°⋆˙⊹✭⊹˙⋆°•⊹˙⋆°•⊹˙⋆°•⊹˙⋆°•⊹˙⋆°••°⋆˙⊹\")\r\n",
        "print(\"\\nThe values of the 5th Vector are:    \",Vfive)\r\n",
        "print(\"\\nThe modulus of the 5th Vector:       \",np.linalg.norm(Vfive))\r\n",
        "\r\n",
        "## SIXTH VECTOR Vsix N\r\n",
        "print(\"\\n⊹˙⋆°••°⋆˙⊹•°⋆˙⊹•°⋆˙⊹•°⋆˙⊹•°⋆˙⊹✭⊹˙⋆°•⊹˙⋆°•⊹˙⋆°•⊹˙⋆°•⊹˙⋆°••°⋆˙⊹\")\r\n",
        "print(\"\\nThe values of the 6th Vector are:    \",Vsix)\r\n",
        "print(\"\\nThe modulus of the 6th Vector:       \",np.linalg.norm(Vsix))"
      ],
      "execution_count": 5,
      "outputs": [
        {
          "output_type": "stream",
          "text": [
            "\n",
            "⊹˙⋆°••°⋆˙⊹•°⋆˙⊹•°⋆˙⊹•°⋆˙⊹•°⋆˙⊹✭⊹˙⋆°•⊹˙⋆°•⊹˙⋆°•⊹˙⋆°•⊹˙⋆°••°⋆˙⊹\n",
            "\n",
            "The values of the 1st Vector are:     [ 6 12 18 24]\n",
            "\n",
            "The modulus of the 1st Vector:        32.863353450309965\n",
            "\n",
            "⊹˙⋆°••°⋆˙⊹•°⋆˙⊹•°⋆˙⊹•°⋆˙⊹•°⋆˙⊹✭⊹˙⋆°•⊹˙⋆°•⊹˙⋆°•⊹˙⋆°•⊹˙⋆°••°⋆˙⊹\n",
            "\n",
            "The values of the 2nd Vector are:     [ 7 14 21 28]\n",
            "\n",
            "The modulus of the 2nd Vector:        38.34057902536163\n",
            "\n",
            "⊹˙⋆°••°⋆˙⊹•°⋆˙⊹•°⋆˙⊹•°⋆˙⊹•°⋆˙⊹✭⊹˙⋆°•⊹˙⋆°•⊹˙⋆°•⊹˙⋆°•⊹˙⋆°••°⋆˙⊹\n",
            "\n",
            "The values of the 3rd Vector are:     [ 8 16 24 32]\n",
            "\n",
            "The modulus of the 3rd Vector:        43.81780460041329\n",
            "\n",
            "⊹˙⋆°••°⋆˙⊹•°⋆˙⊹•°⋆˙⊹•°⋆˙⊹•°⋆˙⊹✭⊹˙⋆°•⊹˙⋆°•⊹˙⋆°•⊹˙⋆°•⊹˙⋆°••°⋆˙⊹\n",
            "\n",
            "The values of the 4th Vector are:     [ 9 18 27 36]\n",
            "\n",
            "The modulus of the 4th Vector:        49.29503017546495\n",
            "\n",
            "⊹˙⋆°••°⋆˙⊹•°⋆˙⊹•°⋆˙⊹•°⋆˙⊹•°⋆˙⊹✭⊹˙⋆°•⊹˙⋆°•⊹˙⋆°•⊹˙⋆°•⊹˙⋆°••°⋆˙⊹\n",
            "\n",
            "The values of the 5th Vector are:     [11 21  1 25]\n",
            "\n",
            "The modulus of the 5th Vector:        34.46737587922817\n",
            "\n",
            "⊹˙⋆°••°⋆˙⊹•°⋆˙⊹•°⋆˙⊹•°⋆˙⊹•°⋆˙⊹✭⊹˙⋆°•⊹˙⋆°•⊹˙⋆°•⊹˙⋆°•⊹˙⋆°••°⋆˙⊹\n",
            "\n",
            "The values of the 6th Vector are:     [12 30  2  4]\n",
            "\n",
            "The modulus of the 6th Vector:        32.61901286060018\n"
          ],
          "name": "stdout"
        }
      ]
    },
    {
      "cell_type": "markdown",
      "metadata": {
        "id": "QDx9G7M60CGn"
      },
      "source": [
        "***with Explicit function***"
      ]
    },
    {
      "cell_type": "code",
      "metadata": {
        "colab": {
          "base_uri": "https://localhost:8080/"
        },
        "id": "SIW8abRM0AVv",
        "outputId": "b5bb56d8-2bc4-4f5e-be9f-b92434bec36e"
      },
      "source": [
        "##Vectors\r\n",
        "Vone = [(6,12,18,24)]\r\n",
        "Vtwo = [(7,14,21,28)]\r\n",
        "Vthree = [(8,16,24,32)]\r\n",
        "Vfour = [(9,18,27,36)]\r\n",
        "Vfive = [(11,21,1,25)]\r\n",
        "Vsix = [(12,30,2,4)]\r\n",
        "\r\n",
        "## FIRST VECTOR Vone A\r\n",
        "print(\"\\n⊹˙⋆°••°⋆˙⊹•°⋆˙⊹•°⋆˙⊹•°⋆˙⊹•°⋆˙⊹✭⊹˙⋆°•⊹˙⋆°•⊹˙⋆°•⊹˙⋆°•⊹˙⋆°••°⋆˙⊹\")\r\n",
        "A = []\r\n",
        "for values in Vone:\r\n",
        "    for number in values:\r\n",
        "        sqrt = number **2\r\n",
        "        A.append(sqrt)\r\n",
        "\r\n",
        "print(\"\\nThe values of the 1st Vector are:    \",Vone)\r\n",
        "print(\"\\nThe square of all the values:        \",A)\r\n",
        "print(\"The sum of all the values:           \",sum(A))\r\n",
        "print(\"\\nThe modulus of the 1st Vector:       \",sum(A)**0.5)\r\n",
        "\r\n",
        "## SECOND VECTOR Vtwo S\r\n",
        "print(\"\\n⊹˙⋆°••°⋆˙⊹•°⋆˙⊹•°⋆˙⊹•°⋆˙⊹•°⋆˙⊹✭⊹˙⋆°•⊹˙⋆°•⊹˙⋆°•⊹˙⋆°•⊹˙⋆°••°⋆˙⊹\")\r\n",
        "S = []\r\n",
        "for values in Vtwo:\r\n",
        "    for number in values:\r\n",
        "        sqrt = number **2\r\n",
        "        S.append(sqrt)\r\n",
        "\r\n",
        "print(\"\\nThe values of the 2nd Vector are:    \",Vtwo)\r\n",
        "print(\"\\nThe square of all the values:        \",S)\r\n",
        "print(\"The sum of all the values:           \",sum(S))\r\n",
        "print(\"\\nThe modulus of the 2nd Vector:       \",sum(S)**0.5)\r\n",
        "\r\n",
        "## THIRD VECTOR Vthree H\r\n",
        "print(\"\\n⊹˙⋆°••°⋆˙⊹•°⋆˙⊹•°⋆˙⊹•°⋆˙⊹•°⋆˙⊹✭⊹˙⋆°•⊹˙⋆°•⊹˙⋆°•⊹˙⋆°•⊹˙⋆°••°⋆˙⊹\")\r\n",
        "H = []\r\n",
        "for values in Vthree:\r\n",
        "    for number in values:\r\n",
        "        sqrt = number **2\r\n",
        "        H.append(sqrt)\r\n",
        "\r\n",
        "print(\"\\nThe values of the 3rd Vector are:    \",Vthree)\r\n",
        "print(\"\\nThe square of all the values:        \",H)\r\n",
        "print(\"The sum of all the values:           \",sum(H))\r\n",
        "print(\"\\nThe modulus of the 3rd Vector:       \",sum(H)**0.5)\r\n",
        "\r\n",
        "## FOURTH VECTOR Vfour T\r\n",
        "print(\"\\n⊹˙⋆°••°⋆˙⊹•°⋆˙⊹•°⋆˙⊹•°⋆˙⊹•°⋆˙⊹✭⊹˙⋆°•⊹˙⋆°•⊹˙⋆°•⊹˙⋆°•⊹˙⋆°••°⋆˙⊹\")\r\n",
        "T = []\r\n",
        "for values in Vfour:\r\n",
        "    for number in values:\r\n",
        "        sqrt = number **2\r\n",
        "        T.append(sqrt)\r\n",
        "\r\n",
        "print(\"\\nThe values of the 4th Vector are:    \",Vfour)\r\n",
        "print(\"\\nThe square of all the values:        \",T)\r\n",
        "print(\"The sum of all the values:           \",sum(T))\r\n",
        "print(\"\\nThe modulus of the 4th Vector:       \",sum(T)**0.5)\r\n",
        "\r\n",
        "## FIFTH VECTOR Vfive O\r\n",
        "print(\"\\n⊹˙⋆°••°⋆˙⊹•°⋆˙⊹•°⋆˙⊹•°⋆˙⊹•°⋆˙⊹✭⊹˙⋆°•⊹˙⋆°•⊹˙⋆°•⊹˙⋆°•⊹˙⋆°••°⋆˙⊹\")\r\n",
        "O = []\r\n",
        "for values in Vfive:\r\n",
        "    for number in values:\r\n",
        "        sqrt = number **2\r\n",
        "        O.append(sqrt)\r\n",
        "\r\n",
        "print(\"\\nThe values of the 5th Vector are:    \",Vfive)\r\n",
        "print(\"\\nThe square of all the values:        \",O)\r\n",
        "print(\"The sum of all the values:           \",sum(O))\r\n",
        "print(\"\\nThe modulus of the 5th Vector:       \",sum(O)**0.5)\r\n",
        "\r\n",
        "## SIXTH VECTOR Vsix N\r\n",
        "print(\"\\n⊹˙⋆°••°⋆˙⊹•°⋆˙⊹•°⋆˙⊹•°⋆˙⊹•°⋆˙⊹✭⊹˙⋆°•⊹˙⋆°•⊹˙⋆°•⊹˙⋆°•⊹˙⋆°••°⋆˙⊹\")\r\n",
        "N = []\r\n",
        "for values in Vsix:\r\n",
        "    for number in values:\r\n",
        "        sqrt = number **2\r\n",
        "        N.append(sqrt)\r\n",
        "\r\n",
        "print(\"\\nThe values of the 6th Vector are:    \",Vsix)\r\n",
        "print(\"\\nThe square of all the values:        \",N)\r\n",
        "print(\"The sum of all the values:           \",sum(N))\r\n",
        "print(\"\\nThe modulus of the 6th Vector:       \",sum(N)**0.5)"
      ],
      "execution_count": 4,
      "outputs": [
        {
          "output_type": "stream",
          "text": [
            "\n",
            "⊹˙⋆°••°⋆˙⊹•°⋆˙⊹•°⋆˙⊹•°⋆˙⊹•°⋆˙⊹✭⊹˙⋆°•⊹˙⋆°•⊹˙⋆°•⊹˙⋆°•⊹˙⋆°••°⋆˙⊹\n",
            "\n",
            "The values of the 1st Vector are:     [(6, 12, 18, 24)]\n",
            "\n",
            "The square of all the values:         [36, 144, 324, 576]\n",
            "The sum of all the values:            1080\n",
            "\n",
            "The modulus of the 1st Vector:        32.863353450309965\n",
            "\n",
            "⊹˙⋆°••°⋆˙⊹•°⋆˙⊹•°⋆˙⊹•°⋆˙⊹•°⋆˙⊹✭⊹˙⋆°•⊹˙⋆°•⊹˙⋆°•⊹˙⋆°•⊹˙⋆°••°⋆˙⊹\n",
            "\n",
            "The values of the 2nd Vector are:     [(7, 14, 21, 28)]\n",
            "\n",
            "The square of all the values:         [49, 196, 441, 784]\n",
            "The sum of all the values:            1470\n",
            "\n",
            "The modulus of the 2nd Vector:        38.34057902536163\n",
            "\n",
            "⊹˙⋆°••°⋆˙⊹•°⋆˙⊹•°⋆˙⊹•°⋆˙⊹•°⋆˙⊹✭⊹˙⋆°•⊹˙⋆°•⊹˙⋆°•⊹˙⋆°•⊹˙⋆°••°⋆˙⊹\n",
            "\n",
            "The values of the 3rd Vector are:     [(8, 16, 24, 32)]\n",
            "\n",
            "The square of all the values:         [64, 256, 576, 1024]\n",
            "The sum of all the values:            1920\n",
            "\n",
            "The modulus of the 3rd Vector:        43.81780460041329\n",
            "\n",
            "⊹˙⋆°••°⋆˙⊹•°⋆˙⊹•°⋆˙⊹•°⋆˙⊹•°⋆˙⊹✭⊹˙⋆°•⊹˙⋆°•⊹˙⋆°•⊹˙⋆°•⊹˙⋆°••°⋆˙⊹\n",
            "\n",
            "The values of the 4th Vector are:     [(9, 18, 27, 36)]\n",
            "\n",
            "The square of all the values:         [81, 324, 729, 1296]\n",
            "The sum of all the values:            2430\n",
            "\n",
            "The modulus of the 4th Vector:        49.29503017546495\n",
            "\n",
            "⊹˙⋆°••°⋆˙⊹•°⋆˙⊹•°⋆˙⊹•°⋆˙⊹•°⋆˙⊹✭⊹˙⋆°•⊹˙⋆°•⊹˙⋆°•⊹˙⋆°•⊹˙⋆°••°⋆˙⊹\n",
            "\n",
            "The values of the 5th Vector are:     [(11, 21, 1, 25)]\n",
            "\n",
            "The square of all the values:         [121, 441, 1, 625]\n",
            "The sum of all the values:            1188\n",
            "\n",
            "The modulus of the 5th Vector:        34.46737587922817\n",
            "\n",
            "⊹˙⋆°••°⋆˙⊹•°⋆˙⊹•°⋆˙⊹•°⋆˙⊹•°⋆˙⊹✭⊹˙⋆°•⊹˙⋆°•⊹˙⋆°•⊹˙⋆°•⊹˙⋆°••°⋆˙⊹\n",
            "\n",
            "The values of the 6th Vector are:     [(12, 30, 2, 4)]\n",
            "\n",
            "The square of all the values:         [144, 900, 4, 16]\n",
            "The sum of all the values:            1064\n",
            "\n",
            "The modulus of the 6th Vector:        32.61901286060018\n"
          ],
          "name": "stdout"
        }
      ]
    }
  ]
}