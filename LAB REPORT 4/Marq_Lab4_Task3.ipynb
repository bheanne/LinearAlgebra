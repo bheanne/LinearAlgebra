{
  "nbformat": 4,
  "nbformat_minor": 0,
  "metadata": {
    "colab": {
      "name": "Marq_Lab4_Task3.ipynb",
      "provenance": [],
      "authorship_tag": "ABX9TyPwhhKC7EMoSSIXCYzdYRyp",
      "include_colab_link": true
    },
    "kernelspec": {
      "name": "python3",
      "display_name": "Python 3"
    }
  },
  "cells": [
    {
      "cell_type": "markdown",
      "metadata": {
        "id": "view-in-github",
        "colab_type": "text"
      },
      "source": [
        "<a href=\"https://colab.research.google.com/github/bheanne/LinearAlgebra/blob/main/LAB%20REPORT%204/Marq_Lab4_Task3.ipynb\" target=\"_parent\"><img src=\"https://colab.research.google.com/assets/colab-badge.svg\" alt=\"Open In Colab\"/></a>"
      ]
    },
    {
      "cell_type": "markdown",
      "metadata": {
        "id": "mZPwzctq4Gl7"
      },
      "source": [
        "# **Task 3**"
      ]
    },
    {
      "cell_type": "code",
      "metadata": {
        "colab": {
          "base_uri": "https://localhost:8080/",
          "height": 375
        },
        "id": "jK_4Xe8o4Iwu",
        "outputId": "b56e7a40-0e68-483f-f199-1918439ea980"
      },
      "source": [
        "import numpy as np\r\n",
        "import matplotlib.pyplot as plt\r\n",
        "\r\n",
        "a = np.array([-0.4 , 4.3 , -0.6])\r\n",
        "b = np.array([-0.2 , 0.2, 1])\r\n",
        "c = np.array([-0.2, 2.1, -1.5])\r\n",
        "\r\n",
        "print(\"\\n⊹˙⋆°••°⋆˙⊹•°⋆˙⊹•°⋆˙⊹•°⋆˙⊹•°⋆˙⊹•°⋆˙⊹•°⋆˙⊹•°⋆˙⊹✭⊹˙⋆°•⊹˙⋆°•⊹˙⋆°•⊹˙⋆°•⊹˙⋆°•⊹˙⋆°•⊹˙⋆°•⊹˙⋆°••°⋆˙⊹\")\r\n",
        "yay = ((np.square(a) + np.square(b) + np.square(c)) * (np.divide(np.multiply(a,(np.add(b, (np.multiply(a,b))))),c)))*(np.linalg.norm(a+b+c))\r\n",
        "print(\"\\n(A**2 + B**2 + C**2)*(A*(B+A*B)/C)*||A + B + C||= \",yay)\r\n",
        "\r\n",
        "plt.quiver(a[0], a[1], b[0], b[1], angles='xy', scale_units='xy', scale=1, color='darkmagenta')\r\n",
        "plt.quiver(a[0] + b[0], a[1] + b[1], c[0], c[1], angles='xy', scale_units='xy', scale=1, color='deepskyblue')\r\n",
        "d = b + c\r\n",
        "plt.quiver(a[0], a[1], d[0], d[1] ,angles='xy', scale_units='xy', scale=1, color='hotpink')\r\n",
        "\r\n",
        "R_mag = np.sqrt(np.sum(b**2+c**2))\r\n",
        "rise = c[1]\r\n",
        "run = c[0]\r\n",
        "slope = rise/run\r\n",
        "print(\"\\nThe slope is: \",slope)\r\n",
        "plt.xlim(-5,4)\r\n",
        "plt.ylim(4,7)\r\n",
        "\r\n",
        "plt.grid()\r\n",
        "plt.show()"
      ],
      "execution_count": 25,
      "outputs": [
        {
          "output_type": "stream",
          "text": [
            "\n",
            "⊹˙⋆°••°⋆˙⊹•°⋆˙⊹•°⋆˙⊹•°⋆˙⊹•°⋆˙⊹•°⋆˙⊹•°⋆˙⊹•°⋆˙⊹✭⊹˙⋆°•⊹˙⋆°•⊹˙⋆°•⊹˙⋆°•⊹˙⋆°•⊹˙⋆°•⊹˙⋆°•⊹˙⋆°••°⋆˙⊹\n",
            "\n",
            "(A**2 + B**2 + C**2)*(A*(B+A*B)/C)*||A + B + C||=  [ -0.38814879 335.52446352   3.89226979]\n",
            "\n",
            "The slope is:  -10.5\n"
          ],
          "name": "stdout"
        },
        {
          "output_type": "display_data",
          "data": {
            "image/png": "[encoded data removed]",
            "text/plain": [
              "<Figure size 432x288 with 1 Axes>"
            ]
          },
          "metadata": {
            "tags": [],
            "needs_background": "light"
          }
        }
      ]
    }
  ]
}