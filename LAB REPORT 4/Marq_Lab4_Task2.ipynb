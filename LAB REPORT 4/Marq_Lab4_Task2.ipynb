{
  "nbformat": 4,
  "nbformat_minor": 0,
  "metadata": {
    "colab": {
      "name": "Marq_Lab4_Task2.ipynb",
      "provenance": [],
      "authorship_tag": "ABX9TyPrf9vhL8V4ZgMZE/qSl+Xo",
      "include_colab_link": true
    },
    "kernelspec": {
      "name": "python3",
      "display_name": "Python 3"
    }
  },
  "cells": [
    {
      "cell_type": "markdown",
      "metadata": {
        "id": "view-in-github",
        "colab_type": "text"
      },
      "source": [
        "<a href=\"https://colab.research.google.com/github/bheanne/LinearAlgebra/blob/main/LAB%20REPORT%204/Marq_Lab4_Task2.ipynb\" target=\"_parent\"><img src=\"https://colab.research.google.com/assets/colab-badge.svg\" alt=\"Open In Colab\"/></a>"
      ]
    },
    {
      "cell_type": "markdown",
      "metadata": {
        "id": "WlftS920sHya"
      },
      "source": [
        "# **Task 2**"
      ]
    },
    {
      "cell_type": "markdown",
      "metadata": {
        "id": "o4sZ17WQvqE6"
      },
      "source": [
        "***with NumPy's preset function***"
      ]
    },
    {
      "cell_type": "code",
      "metadata": {
        "colab": {
          "base_uri": "https://localhost:8080/"
        },
        "id": "hqFOVgSLv9N-",
        "outputId": "7b26acc6-d4c8-4389-ebab-ab9c2232e33c"
      },
      "source": [
        "import numpy as np\r\n",
        "\r\n",
        "##Vectors\r\n",
        "C = np.array([6,12,18,24,30])\r\n",
        "A = np.array([7,14,21,28,35])\r\n",
        "L = np.array([8,16,24,32,40])\r\n",
        "U = np.array([9,18,27,36,45])\r\n",
        "M = np.array([11,21,1,25,12])\r\n",
        "\r\n",
        "## FIRST VECTOR C,A\r\n",
        "print(\"\\n⊹˙⋆°••°⋆˙⊹•°⋆˙⊹•°⋆˙⊹•°⋆˙⊹•°⋆˙⊹•°⋆˙⊹✭⊹˙⋆°•⊹˙⋆°•⊹˙⋆°•⊹˙⋆°•⊹˙⋆°•⊹˙⋆°••°⋆˙⊹\")\r\n",
        "print(\"\\nThe 1st two vectors are: \" , C, \"and\" , A)\r\n",
        "print(\"\\nThe dot product of the 1st two vectors is:\", np.inner(C,A))\r\n",
        "\r\n",
        "## SECOND VECTOR A,L\r\n",
        "print(\"\\n⊹˙⋆°••°⋆˙⊹•°⋆˙⊹•°⋆˙⊹•°⋆˙⊹•°⋆˙⊹•°⋆˙⊹✭⊹˙⋆°•⊹˙⋆°•⊹˙⋆°•⊹˙⋆°•⊹˙⋆°•⊹˙⋆°••°⋆˙⊹\")\r\n",
        "print(\"\\nThe 2nd two vectors are: \" , A, \"and\" , L)\r\n",
        "print(\"\\nThe dot product of the 2nd two vectors is:\", np.inner(A,L))\r\n",
        "\r\n",
        "## THIRD VECTOR L,U\r\n",
        "print(\"\\n⊹˙⋆°••°⋆˙⊹•°⋆˙⊹•°⋆˙⊹•°⋆˙⊹•°⋆˙⊹•°⋆˙⊹✭⊹˙⋆°•⊹˙⋆°•⊹˙⋆°•⊹˙⋆°•⊹˙⋆°•⊹˙⋆°••°⋆˙⊹\")\r\n",
        "print(\"\\nThe 3rd two vectors are: \" , L, \"and\" , U)\r\n",
        "print(\"\\nThe dot product of the 3rd two vectors is:\", np.inner(L,U))\r\n",
        "\r\n",
        "## FOURTH VECTOR U,M\r\n",
        "print(\"\\n⊹˙⋆°••°⋆˙⊹•°⋆˙⊹•°⋆˙⊹•°⋆˙⊹•°⋆˙⊹•°⋆˙⊹✭⊹˙⋆°•⊹˙⋆°•⊹˙⋆°•⊹˙⋆°•⊹˙⋆°•⊹˙⋆°••°⋆˙⊹\")\r\n",
        "print(\"\\nThe 4th two vectors are: \" , U, \"and\" , M)\r\n",
        "print(\"\\nThe dot product of the 4th two vectors is:\", np.inner(U,M))\r\n",
        "\r\n",
        "## FIFTH VECTOR M,C\r\n",
        "print(\"\\n⊹˙⋆°••°⋆˙⊹•°⋆˙⊹•°⋆˙⊹•°⋆˙⊹•°⋆˙⊹•°⋆˙⊹✭⊹˙⋆°•⊹˙⋆°•⊹˙⋆°•⊹˙⋆°•⊹˙⋆°•⊹˙⋆°••°⋆˙⊹\")\r\n",
        "print(\"\\nThe 5th two vectors are: \" , M, \"and\" , C)\r\n",
        "print(\"\\nThe dot product of the 5th two vectors is:\", np.inner(M,C))"
      ],
      "execution_count": 8,
      "outputs": [
        {
          "output_type": "stream",
          "text": [
            "\n",
            "⊹˙⋆°••°⋆˙⊹•°⋆˙⊹•°⋆˙⊹•°⋆˙⊹•°⋆˙⊹•°⋆˙⊹✭⊹˙⋆°•⊹˙⋆°•⊹˙⋆°•⊹˙⋆°•⊹˙⋆°•⊹˙⋆°••°⋆˙⊹\n",
            "\n",
            "The 1st two vectors are:  [ 6 12 18 24 30] and [ 7 14 21 28 35]\n",
            "\n",
            "The dot product of the 1st two vectors is: 2310\n",
            "\n",
            "⊹˙⋆°••°⋆˙⊹•°⋆˙⊹•°⋆˙⊹•°⋆˙⊹•°⋆˙⊹•°⋆˙⊹✭⊹˙⋆°•⊹˙⋆°•⊹˙⋆°•⊹˙⋆°•⊹˙⋆°•⊹˙⋆°••°⋆˙⊹\n",
            "\n",
            "The 2nd two vectors are:  [ 7 14 21 28 35] and [ 8 16 24 32 40]\n",
            "\n",
            "The dot product of the 2nd two vectors is: 3080\n",
            "\n",
            "⊹˙⋆°••°⋆˙⊹•°⋆˙⊹•°⋆˙⊹•°⋆˙⊹•°⋆˙⊹•°⋆˙⊹✭⊹˙⋆°•⊹˙⋆°•⊹˙⋆°•⊹˙⋆°•⊹˙⋆°•⊹˙⋆°••°⋆˙⊹\n",
            "\n",
            "The 3rd two vectors are:  [ 8 16 24 32 40] and [ 9 18 27 36 45]\n",
            "\n",
            "The dot product of the 3rd two vectors is: 3960\n",
            "\n",
            "⊹˙⋆°••°⋆˙⊹•°⋆˙⊹•°⋆˙⊹•°⋆˙⊹•°⋆˙⊹•°⋆˙⊹✭⊹˙⋆°•⊹˙⋆°•⊹˙⋆°•⊹˙⋆°•⊹˙⋆°•⊹˙⋆°••°⋆˙⊹\n",
            "\n",
            "The 4th two vectors are:  [ 9 18 27 36 45] and [11 21  1 25 12]\n",
            "\n",
            "The dot product of the 4th two vectors is: 1944\n",
            "\n",
            "⊹˙⋆°••°⋆˙⊹•°⋆˙⊹•°⋆˙⊹•°⋆˙⊹•°⋆˙⊹•°⋆˙⊹✭⊹˙⋆°•⊹˙⋆°•⊹˙⋆°•⊹˙⋆°•⊹˙⋆°•⊹˙⋆°••°⋆˙⊹\n",
            "\n",
            "The 5th two vectors are:  [11 21  1 25 12] and [ 6 12 18 24 30]\n",
            "\n",
            "The dot product of the 5th two vectors is: 1296\n"
          ],
          "name": "stdout"
        }
      ]
    },
    {
      "cell_type": "markdown",
      "metadata": {
        "id": "ehwsnkwivrWM"
      },
      "source": [
        "***with Explicit function***"
      ]
    },
    {
      "cell_type": "code",
      "metadata": {
        "colab": {
          "base_uri": "https://localhost:8080/"
        },
        "id": "X2I6vx9mv-G8",
        "outputId": "ebd74c47-94af-47ae-fe17-31e0aa7c0130"
      },
      "source": [
        "##Vectors\r\n",
        "C = (6,12,18,24,30)\r\n",
        "A = (7,14,21,28,35)\r\n",
        "L = (8,16,24,32,40)\r\n",
        "U = (9,18,27,36,45)\r\n",
        "M = (11,21,1,25,12)\r\n",
        "\r\n",
        "## FIRST VECTOR C,A\r\n",
        "print(\"\\n⊹˙⋆°••°⋆˙⊹•°⋆˙⊹•°⋆˙⊹•°⋆˙⊹•°⋆˙⊹•°⋆˙⊹✭⊹˙⋆°•⊹˙⋆°•⊹˙⋆°•⊹˙⋆°•⊹˙⋆°•⊹˙⋆°••°⋆˙⊹\")\r\n",
        "def dot(C,A):\r\n",
        "    return sum(x*y for x,y in zip(C,A))\r\n",
        "\r\n",
        "print(\"\\nThe 1st two vectors are: \" , C, \"and\" , A)\r\n",
        "print(\"\\nThe dot product of the 1st two vectors is:\", dot(C,A))\r\n",
        "\r\n",
        "## SECOND VECTOR A,L\r\n",
        "print(\"\\n⊹˙⋆°••°⋆˙⊹•°⋆˙⊹•°⋆˙⊹•°⋆˙⊹•°⋆˙⊹•°⋆˙⊹✭⊹˙⋆°•⊹˙⋆°•⊹˙⋆°•⊹˙⋆°•⊹˙⋆°•⊹˙⋆°••°⋆˙⊹\")\r\n",
        "def dot(A,L):\r\n",
        "    return sum(x*y for x,y in zip(A,L))\r\n",
        "\r\n",
        "print(\"\\nThe 2nd two vectors are: \" , A, \"and\" , L)\r\n",
        "print(\"\\nThe dot product of the 2nd two vectors is:\", dot(A,L))\r\n",
        "\r\n",
        "## THIRD VECTOR L,U\r\n",
        "print(\"\\n⊹˙⋆°••°⋆˙⊹•°⋆˙⊹•°⋆˙⊹•°⋆˙⊹•°⋆˙⊹•°⋆˙⊹✭⊹˙⋆°•⊹˙⋆°•⊹˙⋆°•⊹˙⋆°•⊹˙⋆°•⊹˙⋆°••°⋆˙⊹\")\r\n",
        "def dot(L,U):\r\n",
        "    return sum(x*y for x,y in zip(L,U))\r\n",
        "\r\n",
        "print(\"\\nThe 3rd two vectors are: \" , L, \"and\" , U)\r\n",
        "print(\"\\nThe dot product of the 3rd two vectors is:\", dot(L,U))\r\n",
        "\r\n",
        "## FOURTH VECTOR U,M\r\n",
        "print(\"\\n⊹˙⋆°••°⋆˙⊹•°⋆˙⊹•°⋆˙⊹•°⋆˙⊹•°⋆˙⊹•°⋆˙⊹✭⊹˙⋆°•⊹˙⋆°•⊹˙⋆°•⊹˙⋆°•⊹˙⋆°•⊹˙⋆°••°⋆˙⊹\")\r\n",
        "def dot(U,M):\r\n",
        "    return sum(x*y for x,y in zip(U,M))\r\n",
        "\r\n",
        "print(\"\\nThe 4th two vectors are: \" , U, \"and\" , M)\r\n",
        "print(\"\\nThe dot product of the 4th two vectors is:\", dot(U,M))\r\n",
        "\r\n",
        "## FIFTH VECTOR M,C\r\n",
        "print(\"\\n⊹˙⋆°••°⋆˙⊹•°⋆˙⊹•°⋆˙⊹•°⋆˙⊹•°⋆˙⊹•°⋆˙⊹✭⊹˙⋆°•⊹˙⋆°•⊹˙⋆°•⊹˙⋆°•⊹˙⋆°•⊹˙⋆°••°⋆˙⊹\")\r\n",
        "def dot(M,C):\r\n",
        "    return sum(x*y for x,y in zip(M,C))\r\n",
        "\r\n",
        "print(\"\\nThe 5th two vectors are: \" , M, \"and\" , C)\r\n",
        "print(\"\\nThe dot product of the 5th two vectors is:\", dot(M,C))"
      ],
      "execution_count": 9,
      "outputs": [
        {
          "output_type": "stream",
          "text": [
            "\n",
            "⊹˙⋆°••°⋆˙⊹•°⋆˙⊹•°⋆˙⊹•°⋆˙⊹•°⋆˙⊹•°⋆˙⊹✭⊹˙⋆°•⊹˙⋆°•⊹˙⋆°•⊹˙⋆°•⊹˙⋆°•⊹˙⋆°••°⋆˙⊹\n",
            "\n",
            "The 1st two vectors are:  (6, 12, 18, 24, 30) and (7, 14, 21, 28, 35)\n",
            "\n",
            "The dot product of the 1st two vectors is: 2310\n",
            "\n",
            "⊹˙⋆°••°⋆˙⊹•°⋆˙⊹•°⋆˙⊹•°⋆˙⊹•°⋆˙⊹•°⋆˙⊹✭⊹˙⋆°•⊹˙⋆°•⊹˙⋆°•⊹˙⋆°•⊹˙⋆°•⊹˙⋆°••°⋆˙⊹\n",
            "\n",
            "The 2nd two vectors are:  (7, 14, 21, 28, 35) and (8, 16, 24, 32, 40)\n",
            "\n",
            "The dot product of the 2nd two vectors is: 3080\n",
            "\n",
            "⊹˙⋆°••°⋆˙⊹•°⋆˙⊹•°⋆˙⊹•°⋆˙⊹•°⋆˙⊹•°⋆˙⊹✭⊹˙⋆°•⊹˙⋆°•⊹˙⋆°•⊹˙⋆°•⊹˙⋆°•⊹˙⋆°••°⋆˙⊹\n",
            "\n",
            "The 3rd two vectors are:  (8, 16, 24, 32, 40) and (9, 18, 27, 36, 45)\n",
            "\n",
            "The dot product of the 3rd two vectors is: 3960\n",
            "\n",
            "⊹˙⋆°••°⋆˙⊹•°⋆˙⊹•°⋆˙⊹•°⋆˙⊹•°⋆˙⊹•°⋆˙⊹✭⊹˙⋆°•⊹˙⋆°•⊹˙⋆°•⊹˙⋆°•⊹˙⋆°•⊹˙⋆°••°⋆˙⊹\n",
            "\n",
            "The 4th two vectors are:  (9, 18, 27, 36, 45) and (11, 21, 1, 25, 12)\n",
            "\n",
            "The dot product of the 4th two vectors is: 1944\n",
            "\n",
            "⊹˙⋆°••°⋆˙⊹•°⋆˙⊹•°⋆˙⊹•°⋆˙⊹•°⋆˙⊹•°⋆˙⊹✭⊹˙⋆°•⊹˙⋆°•⊹˙⋆°•⊹˙⋆°•⊹˙⋆°•⊹˙⋆°••°⋆˙⊹\n",
            "\n",
            "The 5th two vectors are:  (11, 21, 1, 25, 12) and (6, 12, 18, 24, 30)\n",
            "\n",
            "The dot product of the 5th two vectors is: 1296\n"
          ],
          "name": "stdout"
        }
      ]
    },
    {
      "cell_type": "markdown",
      "metadata": {
        "id": "CuKsGzRu1SE0"
      },
      "source": [
        "**References** \\\r\n",
        "[1] timgeb. (2016, February) Stack Overflow. [Online]. https://stackoverflow.com/questions/35208160/dot-product-in-python-without-numpy\r\n"
      ]
    }
  ]
}