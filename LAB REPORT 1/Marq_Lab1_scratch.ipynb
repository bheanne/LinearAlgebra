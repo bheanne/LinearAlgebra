{
  "nbformat": 4,
  "nbformat_minor": 0,
  "metadata": {
    "colab": {
      "name": "Marq_Lab1_scratch.ipynb",
      "provenance": [],
      "authorship_tag": "ABX9TyOw+gqmYt+njmiYzNjZNKtr",
      "include_colab_link": true
    },
    "kernelspec": {
      "name": "python3",
      "display_name": "Python 3"
    }
  },
  "cells": [
    {
      "cell_type": "markdown",
      "metadata": {
        "id": "view-in-github",
        "colab_type": "text"
      },
      "source": [
        "<a href=\"https://colab.research.google.com/github/bheanne/LinearAlgebra/blob/main/Marq_Lab1_scratch.ipynb\" target=\"_parent\"><img src=\"https://colab.research.google.com/assets/colab-badge.svg\" alt=\"Open In Colab\"/></a>"
      ]
    },
    {
      "cell_type": "markdown",
      "metadata": {
        "id": "TNrQzZMYikUj"
      },
      "source": [
        "**Variables and Data Types**"
      ]
    },
    {
      "cell_type": "code",
      "metadata": {
        "colab": {
          "base_uri": "https://localhost:8080/"
        },
        "id": "XZw6wXgmioHJ",
        "outputId": "99e959bc-9a15-43de-9385-753823a94420"
      },
      "source": [
        "b, h, e, a = 1, 2, 3, 4\r\n",
        "type(b)"
      ],
      "execution_count": null,
      "outputs": [
        {
          "output_type": "execute_result",
          "data": {
            "text/plain": [
              "int"
            ]
          },
          "metadata": {
            "tags": []
          },
          "execution_count": 3
        }
      ]
    },
    {
      "cell_type": "markdown",
      "metadata": {
        "id": "rzl_1BO4lSvA"
      },
      "source": [
        "Arithmetic Operations"
      ]
    },
    {
      "cell_type": "code",
      "metadata": {
        "colab": {
          "base_uri": "https://localhost:8080/"
        },
        "id": "a2DU4RbNlVrM",
        "outputId": "a0d8ae3f-da0f-47f3-cd47-f88d428e6f99"
      },
      "source": [
        "## Addition\r\n",
        "b, h, e, a = 1, 2, 3, 4\r\n",
        "c = b+h\r\n",
        "c"
      ],
      "execution_count": null,
      "outputs": [
        {
          "output_type": "execute_result",
          "data": {
            "text/plain": [
              "3"
            ]
          },
          "metadata": {
            "tags": []
          },
          "execution_count": 4
        }
      ]
    },
    {
      "cell_type": "code",
      "metadata": {
        "colab": {
          "base_uri": "https://localhost:8080/"
        },
        "id": "6ym6j8q5lhvo",
        "outputId": "ff5dd317-2281-4f48-ffeb-b06b78139436"
      },
      "source": [
        "## Subtraction\r\n",
        "l = e-h\r\n",
        "l"
      ],
      "execution_count": null,
      "outputs": [
        {
          "output_type": "execute_result",
          "data": {
            "text/plain": [
              "1"
            ]
          },
          "metadata": {
            "tags": []
          },
          "execution_count": 5
        }
      ]
    },
    {
      "cell_type": "code",
      "metadata": {
        "colab": {
          "base_uri": "https://localhost:8080/"
        },
        "id": "ZA8rF2tylqUG",
        "outputId": "db68cd00-a693-47b1-d179-73a32c2fcc18"
      },
      "source": [
        "## Multiplication\r\n",
        "u = a*b\r\n",
        "u"
      ],
      "execution_count": null,
      "outputs": [
        {
          "output_type": "execute_result",
          "data": {
            "text/plain": [
              "4"
            ]
          },
          "metadata": {
            "tags": []
          },
          "execution_count": 6
        }
      ]
    },
    {
      "cell_type": "code",
      "metadata": {
        "colab": {
          "base_uri": "https://localhost:8080/"
        },
        "id": "Livj9pdJl4R6",
        "outputId": "b1b91fa4-5504-4e57-dc81-6524d67b9edc"
      },
      "source": [
        "## Division\r\n",
        "m = a/h\r\n",
        "m"
      ],
      "execution_count": null,
      "outputs": [
        {
          "output_type": "execute_result",
          "data": {
            "text/plain": [
              "2.0"
            ]
          },
          "metadata": {
            "tags": []
          },
          "execution_count": 7
        }
      ]
    },
    {
      "cell_type": "markdown",
      "metadata": {
        "id": "JeIz9mpduxdD"
      },
      "source": [
        "Assignment Operators"
      ]
    },
    {
      "cell_type": "code",
      "metadata": {
        "id": "CFgVWRpPu0F6"
      },
      "source": [
        "## =\r\n",
        "a, s, h, t, o, n = 19, 94, 7, 7, 12, 3"
      ],
      "execution_count": null,
      "outputs": []
    },
    {
      "cell_type": "code",
      "metadata": {
        "colab": {
          "base_uri": "https://localhost:8080/"
        },
        "id": "YPzCjzegu-Tc",
        "outputId": "a56f12e1-e841-4385-a8ff-f8ac9f706ff6"
      },
      "source": [
        "## +=\r\n",
        "h = h+a\r\n",
        "h += a\r\n",
        "h"
      ],
      "execution_count": null,
      "outputs": [
        {
          "output_type": "execute_result",
          "data": {
            "text/plain": [
              "45"
            ]
          },
          "metadata": {
            "tags": []
          },
          "execution_count": 11
        }
      ]
    },
    {
      "cell_type": "code",
      "metadata": {
        "colab": {
          "base_uri": "https://localhost:8080/"
        },
        "id": "0DvM1xTqv8tI",
        "outputId": "a9a37ef4-c11c-41cf-911b-9e0a17287316"
      },
      "source": [
        "## -=\r\n",
        "t = n*s\r\n",
        "t -= o\r\n",
        "t"
      ],
      "execution_count": null,
      "outputs": [
        {
          "output_type": "execute_result",
          "data": {
            "text/plain": [
              "270"
            ]
          },
          "metadata": {
            "tags": []
          },
          "execution_count": 12
        }
      ]
    },
    {
      "cell_type": "code",
      "metadata": {
        "colab": {
          "base_uri": "https://localhost:8080/"
        },
        "id": "gAV-w0EOwK-L",
        "outputId": "027e5e17-733f-432d-d240-65b39ff28cbc"
      },
      "source": [
        "## /=\r\n",
        "s = h/t\r\n",
        "s /= t\r\n",
        "s"
      ],
      "execution_count": null,
      "outputs": [
        {
          "output_type": "execute_result",
          "data": {
            "text/plain": [
              "0.0006172839506172839"
            ]
          },
          "metadata": {
            "tags": []
          },
          "execution_count": 14
        }
      ]
    },
    {
      "cell_type": "markdown",
      "metadata": {
        "id": "GErv3taVHF0X"
      },
      "source": [
        "Comparators"
      ]
    },
    {
      "cell_type": "code",
      "metadata": {
        "id": "G9NdLUC9HLRz"
      },
      "source": [
        "l, u, k, e = 19, 96, 7, 16\r\n",
        "true_val = 16"
      ],
      "execution_count": null,
      "outputs": []
    },
    {
      "cell_type": "code",
      "metadata": {
        "colab": {
          "base_uri": "https://localhost:8080/"
        },
        "id": "YOsvVeHsHaU5",
        "outputId": "26e10dad-c4b1-4f06-d6e8-4fba0f3afc58"
      },
      "source": [
        "## Equality\r\n",
        "e == true_val"
      ],
      "execution_count": null,
      "outputs": [
        {
          "output_type": "execute_result",
          "data": {
            "text/plain": [
              "True"
            ]
          },
          "metadata": {
            "tags": []
          },
          "execution_count": 17
        }
      ]
    },
    {
      "cell_type": "code",
      "metadata": {
        "colab": {
          "base_uri": "https://localhost:8080/"
        },
        "id": "xvFxsoSuHi4H",
        "outputId": "fd63ff66-4c82-4af8-dcf7-b77db7916fe6"
      },
      "source": [
        "## Non-equality\r\n",
        "k != true_val"
      ],
      "execution_count": null,
      "outputs": [
        {
          "output_type": "execute_result",
          "data": {
            "text/plain": [
              "True"
            ]
          },
          "metadata": {
            "tags": []
          },
          "execution_count": 18
        }
      ]
    },
    {
      "cell_type": "code",
      "metadata": {
        "colab": {
          "base_uri": "https://localhost:8080/"
        },
        "id": "VoZvGd9PHrsb",
        "outputId": "81464bb6-687a-4648-cb86-6f6c57b00700"
      },
      "source": [
        "## Inequality\r\n",
        "l <= true_val"
      ],
      "execution_count": null,
      "outputs": [
        {
          "output_type": "execute_result",
          "data": {
            "text/plain": [
              "False"
            ]
          },
          "metadata": {
            "tags": []
          },
          "execution_count": 19
        }
      ]
    },
    {
      "cell_type": "markdown",
      "metadata": {
        "id": "RDrKf-i4eQCS"
      },
      "source": [
        "Looping Statements"
      ]
    },
    {
      "cell_type": "code",
      "metadata": {
        "colab": {
          "base_uri": "https://localhost:8080/"
        },
        "id": "TyV5ydUZeRjy",
        "outputId": "34fc8d18-4616-4523-8757-a45918ca6fd4"
      },
      "source": [
        "## while loop\r\n",
        "m, i = 10, 21\r\n",
        "while(m<i):\r\n",
        "  print(m)\r\n",
        "  m+=1"
      ],
      "execution_count": null,
      "outputs": [
        {
          "output_type": "stream",
          "text": [
            "10\n",
            "11\n",
            "12\n",
            "13\n",
            "14\n",
            "15\n",
            "16\n",
            "17\n",
            "18\n",
            "19\n",
            "20\n"
          ],
          "name": "stdout"
        }
      ]
    },
    {
      "cell_type": "code",
      "metadata": {
        "id": "Y8URKKXThVbm"
      },
      "source": [
        ""
      ],
      "execution_count": null,
      "outputs": []
    }
  ]
}
