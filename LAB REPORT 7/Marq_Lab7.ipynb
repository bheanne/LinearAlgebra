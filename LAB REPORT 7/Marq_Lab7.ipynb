{
  "nbformat": 4,
  "nbformat_minor": 0,
  "metadata": {
    "colab": {
      "name": "Marq_Lab7.ipynb",
      "provenance": [],
      "authorship_tag": "ABX9TyO2yir7w5Hof48nqjSo4oIn",
      "include_colab_link": true
    },
    "kernelspec": {
      "name": "python3",
      "display_name": "Python 3"
    },
    "language_info": {
      "name": "python"
    }
  },
  "cells": [
    {
      "cell_type": "markdown",
      "metadata": {
        "id": "view-in-github",
        "colab_type": "text"
      },
      "source": [
        "<a href=\"https://colab.research.google.com/github/bheanne/LinearAlgebra/blob/main/LAB%20REPORT%207/Marq_Lab7.ipynb\" target=\"_parent\"><img src=\"https://colab.research.google.com/assets/colab-badge.svg\" alt=\"Open In Colab\"/></a>"
      ]
    },
    {
      "cell_type": "markdown",
      "metadata": {
        "id": "hBU9xTRidc8k"
      },
      "source": [
        "***Task 1***"
      ]
    },
    {
      "cell_type": "code",
      "metadata": {
        "colab": {
          "base_uri": "https://localhost:8080/"
        },
        "id": "9pHlkpHxdkN2",
        "outputId": "bd02655c-5a24-48de-dae4-5f742df2857f"
      },
      "source": [
        "import numpy as np\n",
        "import matplotlib.pyplot as plt\n",
        "%matplotlib inline\n",
        "\n",
        "S = np.array([[12, 30, 95, 19], [19, 94, 1, 6], [18, 27, 36, 45], [54, 63, 72, 81]])\n",
        "E = np.array([[9, 7, 9, 7], [9, 7, 9, 9], [7, 9, 9, 7], [7, 7, 7, 9]])\n",
        "O = np.array([[5, 12, 45, 11], [22, 33, 44, 55], [66, 77, 88, 99], [24, 36, 48, 60]])\n",
        "K = np.array([[9, 8, 6, 2], [3, 6, 5, 4], [1, 4, 3, 6], [4, 8, 6, 10]])\n",
        "J = np.identity(5)\n",
        "I = np.ones([4, 4])\n",
        "N = np.array([[11, 21, 20, 0, 4], [1, 25, 19, 96, 5] , [90, 76, 58, 4, 6], [15, 1, 7, 14, 8], [1, 8, 15, 22, 29]])\n",
        "V = np.zeros([5,5])\n",
        "\n",
        "print(\"\\n⊹˙⋆°••°⋆˙⊹•°⋆˙✭˙⋆°•⊹˙⋆°•⊹˙⋆°••°⋆˙⊹\")\n",
        "print('\\nShapes:')\n",
        "print('The Shape of S is', S.shape)\n",
        "print('The Shape of E is', E.shape)\n",
        "print('The Shape of O is', O.shape)\n",
        "print('The Shape of K is', K.shape)\n",
        "print('The Shape of J is', J.shape)\n",
        "print('The Shape of I is', I.shape)\n",
        "print('The Shape of N is', N.shape)\n",
        "print('The Shape of V is', V.shape)\n",
        "print(\"\\n⊹˙⋆°••°⋆˙⊹•°⋆˙✭˙⋆°•⊹˙⋆°•⊹˙⋆°••°⋆˙⊹\")"
      ],
      "execution_count": null,
      "outputs": [
        {
          "output_type": "stream",
          "text": [
            "\n",
            "⊹˙⋆°••°⋆˙⊹•°⋆˙✭˙⋆°•⊹˙⋆°•⊹˙⋆°••°⋆˙⊹\n",
            "\n",
            "Shapes:\n",
            "The Shape of S is (4, 4)\n",
            "The Shape of E is (4, 4)\n",
            "The Shape of O is (4, 4)\n",
            "The Shape of K is (4, 4)\n",
            "The Shape of J is (5, 5)\n",
            "The Shape of I is (4, 4)\n",
            "The Shape of N is (5, 5)\n",
            "The Shape of V is (5, 5)\n",
            "\n",
            "⊹˙⋆°••°⋆˙⊹•°⋆˙✭˙⋆°•⊹˙⋆°•⊹˙⋆°••°⋆˙⊹\n"
          ],
          "name": "stdout"
        }
      ]
    },
    {
      "cell_type": "code",
      "metadata": {
        "colab": {
          "base_uri": "https://localhost:8080/"
        },
        "id": "Y7Zz8wW-gCan",
        "outputId": "77871180-af5e-4c52-df42-13c8bff2809d"
      },
      "source": [
        "def Commutative(MatrixE,MatrixI):\n",
        "  Comm_EI = np.dot(E, I)\n",
        "  Comm_IE = np.dot(I, E)\n",
        "  print(\"\\n⊹˙⋆°••°⋆˙⊹•°⋆˙✭˙⋆°•⊹˙⋆°•⊹˙⋆°••°⋆˙⊹\")\n",
        "  print('\\nCommutative Property: ')\n",
        "  print(Comm_EI)\n",
        "  print('\\nis not equal to')\n",
        "  print('\\n')\n",
        "  print(Comm_IE)\n",
        "  print(\"\\n⊹˙⋆°••°⋆˙⊹•°⋆˙✭˙⋆°•⊹˙⋆°•⊹˙⋆°••°⋆˙⊹\")\n",
        "  \n",
        "Commutative(E, I)"
      ],
      "execution_count": null,
      "outputs": [
        {
          "output_type": "stream",
          "text": [
            "\n",
            "⊹˙⋆°••°⋆˙⊹•°⋆˙✭˙⋆°•⊹˙⋆°•⊹˙⋆°••°⋆˙⊹\n",
            "\n",
            "Commutative Property: \n",
            "[[32. 32. 32. 32.]\n",
            " [34. 34. 34. 34.]\n",
            " [32. 32. 32. 32.]\n",
            " [30. 30. 30. 30.]]\n",
            "\n",
            "is not equal to\n",
            "\n",
            "\n",
            "[[32. 30. 34. 32.]\n",
            " [32. 30. 34. 32.]\n",
            " [32. 30. 34. 32.]\n",
            " [32. 30. 34. 32.]]\n",
            "\n",
            "⊹˙⋆°••°⋆˙⊹•°⋆˙✭˙⋆°•⊹˙⋆°•⊹˙⋆°••°⋆˙⊹\n"
          ],
          "name": "stdout"
        }
      ]
    },
    {
      "cell_type": "code",
      "metadata": {
        "colab": {
          "base_uri": "https://localhost:8080/"
        },
        "id": "uZO1Q8_Ugb3-",
        "outputId": "2a120672-51f5-4154-d99d-e6ec7ca137ab"
      },
      "source": [
        "def Associative(MatrixK,MatrixO,MatrixS):\n",
        "  Asso_SK = np.dot(S, K)\n",
        "  Asso_SKO = np.dot(Asso_SK, O)\n",
        "  Asso_KO = np.dot(K, O)\n",
        "  Asso_SOK = np.dot(S, Asso_KO)\n",
        "  print(\"\\n⊹˙⋆°••°⋆˙⊹•°⋆˙✭˙⋆°•⊹˙⋆°•⊹˙⋆°••°⋆˙⊹\")\n",
        "  print('\\nAssociative Property: ')\n",
        "  print(Asso_SKO)\n",
        "  print('\\nis equal to')\n",
        "  print('\\n')\n",
        "  print(Asso_SOK)\n",
        "  print(\"\\n⊹˙⋆°••°⋆˙⊹•°⋆˙✭˙⋆°•⊹˙⋆°•⊹˙⋆°••°⋆˙⊹\")\n",
        "  \n",
        "Associative(K, O, S)"
      ],
      "execution_count": null,
      "outputs": [
        {
          "output_type": "stream",
          "text": [
            "\n",
            "⊹˙⋆°••°⋆˙⊹•°⋆˙✭˙⋆°•⊹˙⋆°•⊹˙⋆°••°⋆˙⊹\n",
            "\n",
            "Associative Property: \n",
            "[[ 82303 111453 150197 164218]\n",
            " [ 71924  96331 133166 137975]\n",
            " [ 80541 109215 149823 159678]\n",
            " [170721 231399 319923 336690]]\n",
            "\n",
            "is equal to\n",
            "\n",
            "\n",
            "[[ 82303 111453 150197 164218]\n",
            " [ 71924  96331 133166 137975]\n",
            " [ 80541 109215 149823 159678]\n",
            " [170721 231399 319923 336690]]\n",
            "\n",
            "⊹˙⋆°••°⋆˙⊹•°⋆˙✭˙⋆°•⊹˙⋆°•⊹˙⋆°••°⋆˙⊹\n"
          ],
          "name": "stdout"
        }
      ]
    },
    {
      "cell_type": "code",
      "metadata": {
        "colab": {
          "base_uri": "https://localhost:8080/"
        },
        "id": "dWQt1GSmk90e",
        "outputId": "d7decf70-2b50-4a86-b7e5-a315b74245f1"
      },
      "source": [
        "def Distributive(MatrixJ,MatrixV,MatrixN):\n",
        "  Distri_JV = np.add(J, V)\n",
        "  Distri_JVN = np.dot(N, Distri_JV)\n",
        "  Distri_NV = np.dot(N, V)\n",
        "  Distri_JN = np.dot(J, N)\n",
        "  print(\"\\n⊹˙⋆°••°⋆˙⊹•°⋆˙✭˙⋆°•⊹˙⋆°•⊹˙⋆°••°⋆˙⊹\")\n",
        "  print('\\nDistribute Property #1: ')\n",
        "  print(Distri_JVN)\n",
        "  print('\\nis equal to')\n",
        "  print('\\n')\n",
        "  print(Distri_NV + Distri_JN)\n",
        "\n",
        "  Distri_NVJ = np.dot(Distri_NV, J)\n",
        "  Distri_VN = np.dot(V, N)\n",
        "  Distri_JJ = np.dot(J, J)\n",
        "  print(\"\\n⊹˙⋆°••°⋆˙⊹•°⋆˙✭˙⋆°•⊹˙⋆°•⊹˙⋆°••°⋆˙⊹\")\n",
        "  print('\\nDistribute Property #2: ')\n",
        "  print(Distri_NVJ)\n",
        "  print('\\nis not equal to')\n",
        "  print('\\n')\n",
        "  print(Distri_VN + Distri_JJ)\n",
        "  print(\"\\n⊹˙⋆°••°⋆˙⊹•°⋆˙✭˙⋆°•⊹˙⋆°•⊹˙⋆°••°⋆˙⊹\")\n",
        "\n",
        "Distributive(J, V, N)"
      ],
      "execution_count": null,
      "outputs": [
        {
          "output_type": "stream",
          "text": [
            "\n",
            "⊹˙⋆°••°⋆˙⊹•°⋆˙✭˙⋆°•⊹˙⋆°•⊹˙⋆°••°⋆˙⊹\n",
            "\n",
            "Distribute Property #1: \n",
            "[[11. 21. 20.  0.  4.]\n",
            " [ 1. 25. 19. 96.  5.]\n",
            " [90. 76. 58.  4.  6.]\n",
            " [15.  1.  7. 14.  8.]\n",
            " [ 1.  8. 15. 22. 29.]]\n",
            "\n",
            "is equal to\n",
            "\n",
            "\n",
            "[[11. 21. 20.  0.  4.]\n",
            " [ 1. 25. 19. 96.  5.]\n",
            " [90. 76. 58.  4.  6.]\n",
            " [15.  1.  7. 14.  8.]\n",
            " [ 1.  8. 15. 22. 29.]]\n",
            "\n",
            "⊹˙⋆°••°⋆˙⊹•°⋆˙✭˙⋆°•⊹˙⋆°•⊹˙⋆°••°⋆˙⊹\n",
            "\n",
            "Distribute Property #2: \n",
            "[[0. 0. 0. 0. 0.]\n",
            " [0. 0. 0. 0. 0.]\n",
            " [0. 0. 0. 0. 0.]\n",
            " [0. 0. 0. 0. 0.]\n",
            " [0. 0. 0. 0. 0.]]\n",
            "\n",
            "is not equal to\n",
            "\n",
            "\n",
            "[[1. 0. 0. 0. 0.]\n",
            " [0. 1. 0. 0. 0.]\n",
            " [0. 0. 1. 0. 0.]\n",
            " [0. 0. 0. 1. 0.]\n",
            " [0. 0. 0. 0. 1.]]\n",
            "\n",
            "⊹˙⋆°••°⋆˙⊹•°⋆˙✭˙⋆°•⊹˙⋆°•⊹˙⋆°••°⋆˙⊹\n"
          ],
          "name": "stdout"
        }
      ]
    },
    {
      "cell_type": "code",
      "metadata": {
        "colab": {
          "base_uri": "https://localhost:8080/"
        },
        "id": "E2TpDBnxppIW",
        "outputId": "b97df08f-4d5e-49dc-cccb-544037cad0dc"
      },
      "source": [
        "def Identity(MatrixJ,MatrixN):\n",
        "  IdentJN = np.dot(MatrixJ, MatrixN)\n",
        "  IdentNJ = np.dot(MatrixN, MatrixJ)\n",
        "  print(\"\\n⊹˙⋆°••°⋆˙⊹•°⋆˙✭˙⋆°•⊹˙⋆°•⊹˙⋆°••°⋆˙⊹\")\n",
        "  print('\\nIdentity Property: ')\n",
        "  print(IdentJN)\n",
        "  print('\\nis equal to')\n",
        "  print('\\n')\n",
        "  print(IdentNJ)\n",
        "  print(\"\\n⊹˙⋆°••°⋆˙⊹•°⋆˙✭˙⋆°•⊹˙⋆°•⊹˙⋆°••°⋆˙⊹\")\n",
        "  \n",
        "Identity(N, J)"
      ],
      "execution_count": null,
      "outputs": [
        {
          "output_type": "stream",
          "text": [
            "\n",
            "⊹˙⋆°••°⋆˙⊹•°⋆˙✭˙⋆°•⊹˙⋆°•⊹˙⋆°••°⋆˙⊹\n",
            "\n",
            "Identity Property: \n",
            "[[11. 21. 20.  0.  4.]\n",
            " [ 1. 25. 19. 96.  5.]\n",
            " [90. 76. 58.  4.  6.]\n",
            " [15.  1.  7. 14.  8.]\n",
            " [ 1.  8. 15. 22. 29.]]\n",
            "\n",
            "is equal to\n",
            "\n",
            "\n",
            "[[11. 21. 20.  0.  4.]\n",
            " [ 1. 25. 19. 96.  5.]\n",
            " [90. 76. 58.  4.  6.]\n",
            " [15.  1.  7. 14.  8.]\n",
            " [ 1.  8. 15. 22. 29.]]\n",
            "\n",
            "⊹˙⋆°••°⋆˙⊹•°⋆˙✭˙⋆°•⊹˙⋆°•⊹˙⋆°••°⋆˙⊹\n"
          ],
          "name": "stdout"
        }
      ]
    },
    {
      "cell_type": "code",
      "metadata": {
        "colab": {
          "base_uri": "https://localhost:8080/"
        },
        "id": "Q34IZHaXqif5",
        "outputId": "df983657-aa8c-419b-b2da-6f5749f206bb"
      },
      "source": [
        "def Zero(MatrixV,MatrixJ):\n",
        "  Zero0VJ = np.dot(MatrixV, MatrixJ)\n",
        "  Zero0JV = np.dot(MatrixJ, MatrixV)\n",
        "  print(\"\\n⊹˙⋆°••°⋆˙⊹•°⋆˙✭˙⋆°•⊹˙⋆°•⊹˙⋆°••°⋆˙⊹\")\n",
        "  print('\\nZero Property:')\n",
        "  print(Zero0VJ)\n",
        "  print('\\nis equal to')\n",
        "  print('\\n')\n",
        "  print(Zero0JV)\n",
        "  print(\"\\n⊹˙⋆°••°⋆˙⊹•°⋆˙✭˙⋆°•⊹˙⋆°•⊹˙⋆°••°⋆˙⊹\")\n",
        "\n",
        "Zero(V, J)"
      ],
      "execution_count": null,
      "outputs": [
        {
          "output_type": "stream",
          "text": [
            "\n",
            "⊹˙⋆°••°⋆˙⊹•°⋆˙✭˙⋆°•⊹˙⋆°•⊹˙⋆°••°⋆˙⊹\n",
            "\n",
            "Zero Property:\n",
            "[[0. 0. 0. 0. 0.]\n",
            " [0. 0. 0. 0. 0.]\n",
            " [0. 0. 0. 0. 0.]\n",
            " [0. 0. 0. 0. 0.]\n",
            " [0. 0. 0. 0. 0.]]\n",
            "\n",
            "is equal to\n",
            "\n",
            "\n",
            "[[0. 0. 0. 0. 0.]\n",
            " [0. 0. 0. 0. 0.]\n",
            " [0. 0. 0. 0. 0.]\n",
            " [0. 0. 0. 0. 0.]\n",
            " [0. 0. 0. 0. 0.]]\n",
            "\n",
            "⊹˙⋆°••°⋆˙⊹•°⋆˙✭˙⋆°•⊹˙⋆°•⊹˙⋆°••°⋆˙⊹\n"
          ],
          "name": "stdout"
        }
      ]
    },
    {
      "cell_type": "code",
      "metadata": {
        "colab": {
          "base_uri": "https://localhost:8080/"
        },
        "id": "furgm1xprtXU",
        "outputId": "08b21d8a-9788-43e6-e9d3-bb3d01a63860"
      },
      "source": [
        "def Dimension(MatrixE,MatrixO):\n",
        "  MatrixE.shape[0]\n",
        "  MatrixO.shape[1]\n",
        "  print(\"\\n⊹˙⋆°••°⋆˙⊹•°⋆˙✭˙⋆°•⊹˙⋆°•⊹˙⋆°••°⋆˙⊹\")\n",
        "  print('\\nDimension Property: ')\n",
        "  print(MatrixE[0], MatrixO[1])\n",
        "  print(\"\\n⊹˙⋆°••°⋆˙⊹•°⋆˙✭˙⋆°•⊹˙⋆°•⊹˙⋆°••°⋆˙⊹\")\n",
        "\n",
        "Dimension(E, O)"
      ],
      "execution_count": null,
      "outputs": [
        {
          "output_type": "stream",
          "text": [
            "\n",
            "⊹˙⋆°••°⋆˙⊹•°⋆˙✭˙⋆°•⊹˙⋆°•⊹˙⋆°••°⋆˙⊹\n",
            "\n",
            "Dimension Property: \n",
            "[9 7 9 7] [22 33 44 55]\n",
            "\n",
            "⊹˙⋆°••°⋆˙⊹•°⋆˙✭˙⋆°•⊹˙⋆°•⊹˙⋆°••°⋆˙⊹\n"
          ],
          "name": "stdout"
        }
      ]
    }
  ]
}