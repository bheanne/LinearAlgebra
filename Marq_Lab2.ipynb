{
  "nbformat": 4,
  "nbformat_minor": 0,
  "metadata": {
    "colab": {
      "name": "Marq_Lab2.ipynb",
      "provenance": [],
      "authorship_tag": "ABX9TyMGllho7E7z/y21LozqW94P",
      "include_colab_link": true
    },
    "kernelspec": {
      "name": "python3",
      "display_name": "Python 3"
    }
  },
  "cells": [
    {
      "cell_type": "markdown",
      "metadata": {
        "id": "view-in-github",
        "colab_type": "text"
      },
      "source": [
        "<a href=\"https://colab.research.google.com/github/bheanne/LinearAlgebra/blob/main/Marq_Lab2.ipynb\" target=\"_parent\"><img src=\"https://colab.research.google.com/assets/colab-badge.svg\" alt=\"Open In Colab\"/></a>"
      ]
    },
    {
      "cell_type": "code",
      "metadata": {
        "colab": {
          "base_uri": "https://localhost:8080/",
          "height": 866
        },
        "id": "lZAq6yrMZwXV",
        "outputId": "30779b06-7acd-4f19-8fd1-bebe02151291"
      },
      "source": [
        "import numpy as np\r\n",
        "import matplotlib.pyplot as plt\r\n",
        "\r\n",
        "Vector1 = np.array([12,30])\r\n",
        "Vector2 = np.array([11,21])\r\n",
        "Vector3 = np.array([1,4])\r\n",
        "Vector4 = np.array([-1,-25])\r\n",
        "Vector5 = np.array([-12,-24])\r\n",
        "\r\n",
        "##A Addition & Subtraction\r\n",
        "Addition = np.add(Vector1, Vector2)\r\n",
        "Subtraction = np.subtract(Vector1, Vector3)\r\n",
        "Combi1 = np.subtract(np.add(Vector1, Vector2), Vector3)\r\n",
        "print(\"\\n⊹˙⋆°••°⋆˙⊹•°⋆˙⊹•°⋆˙⊹•°⋆˙⊹•°⋆˙⊹✭⊹˙⋆°•⊹˙⋆°•⊹˙⋆°•⊹˙⋆°•⊹˙⋆°••°⋆˙⊹\")\r\n",
        "print(\"\\nAdding Vector1 & Vector2 is equal to\", Addition)\r\n",
        "print(\"\\nSubtracting Vector1 & Vector3 is equal to\", Subtraction)\r\n",
        "print(\"\\nSubtracting\", Addition, \"to Vector3 is equal to\", Combi1)\r\n",
        "\r\n",
        "##B Multiplication & Division\r\n",
        "Multiplication = np.multiply(Vector3, Vector5)\r\n",
        "Division = np.divide(Vector3, Vector4)\r\n",
        "Combi2 = np.multiply(np.divide(Vector3, Vector4), Vector5)\r\n",
        "print(\"\\n⊹˙⋆°••°⋆˙⊹•°⋆˙⊹•°⋆˙⊹•°⋆˙⊹•°⋆˙⊹✭⊹˙⋆°•⊹˙⋆°•⊹˙⋆°•⊹˙⋆°•⊹˙⋆°••°⋆˙⊹\")\r\n",
        "print(\"\\nMultiplying Vector3 & Vector5 is equal to\", Multiplication)\r\n",
        "print(\"\\nDividing Vector3 & Vector4 is equal to\", Division)\r\n",
        "print(\"\\nDividing\", Multiplication, \"to Vector5 is equal to\", Combi2)\r\n",
        "\r\n",
        "##C Squarring & Square Root\r\n",
        "Square = np.square(Vector2)\r\n",
        "Square_Root = np.sqrt(Vector2)\r\n",
        "Combi3 = np.square(np.sqrt(Vector2))\r\n",
        "print(\"\\n⊹˙⋆°••°⋆˙⊹•°⋆˙⊹•°⋆˙⊹•°⋆˙⊹•°⋆˙⊹✭⊹˙⋆°•⊹˙⋆°•⊹˙⋆°•⊹˙⋆°•⊹˙⋆°••°⋆˙⊹\")\r\n",
        "print(\"\\nThe Square of Vector2 is\", Square)\r\n",
        "print(\"\\nThe Square Root of Vector2 is\", Square_Root)\r\n",
        "print(\"\\nThe Square of the Square Root of Vector2 is\", Combi3)\r\n",
        "\r\n",
        "##D Summation\r\n",
        "Summation = np.sum(Vector2)\r\n",
        "print(\"\\n⊹˙⋆°••°⋆˙⊹•°⋆˙⊹•°⋆˙⊹•°⋆˙⊹•°⋆˙⊹✭⊹˙⋆°•⊹˙⋆°•⊹˙⋆°•⊹˙⋆°•⊹˙⋆°••°⋆˙⊹\")\r\n",
        "print(\"\\nThe Summation of Vector2 is\", Summation)\r\n",
        "\r\n",
        "##Visualizing the Data\r\n",
        "print(\"\\n⊹˙⋆°••°⋆˙⊹•°⋆˙⊹•°⋆˙⊹•°⋆˙⊹•°⋆˙⊹✭⊹˙⋆°•⊹˙⋆°•⊹˙⋆°•⊹˙⋆°•⊹˙⋆°••°⋆˙⊹\")\r\n",
        "plt.title(\"Visualization of the Data\")\r\n",
        "plt.xlim(-50, 100)\r\n",
        "plt.ylim(-50, 100)\r\n",
        "\r\n",
        "##Vectors\r\n",
        "plt.scatter(Vector1[0], Vector1[1], label='Vector1', c='red')\r\n",
        "plt.scatter(Vector2[0], Vector2[1], label='Vector2', c='orange')\r\n",
        "plt.scatter(Vector3[0], Vector3[1], label='Vector3', c='yellow')\r\n",
        "plt.scatter(Vector4[0], Vector4[1], label='Vector4', c='greenyellow')\r\n",
        "plt.scatter(Vector5[0], Vector5[1], label='Vector5', c='lime')\r\n",
        "\r\n",
        "##Results\r\n",
        "plt.scatter(Addition[0], Addition[1], label='Addition', c='aquamarine')\r\n",
        "plt.scatter(Subtraction[0], Subtraction[1], label='Subtraction', c='aqua')\r\n",
        "plt.scatter(Combi1[0], Combi1[1], label ='Add and Subtract', c='deepskyblue')\r\n",
        "plt.scatter(Division[0], Division[1], label='Division', c='blue')\r\n",
        "plt.scatter(Multiplication[0], Multiplication[1], label='Multiplication', c='blue')\r\n",
        "plt.scatter(Combi2[0], Combi2[1], label='Multiply and Divide', c='darkviolet')\r\n",
        "plt.scatter(Square[0], Square[1], label='Square', c='fuchsia')\r\n",
        "plt.scatter(Square_Root[0], Square_Root[1], label='Square Root', c='magenta')\r\n",
        "plt.scatter(Combi3[0], Combi3[1], label='Square and Square Root', c='deeppink')\r\n",
        "\r\n",
        "##Resultant Vector\r\n",
        "plt.quiver(Vector1[0], Vector1[1], Vector2[0], Vector2[1], angles='xy', scale_units='xy', scale=1, color='mistyrose')\r\n",
        "plt.quiver(5, 21, Vector4[0], Vector4[1], angles='xy', scale_units='xy', scale=1, color='violet')\r\n",
        "Vector6 = Vector2 + Vector4\r\n",
        "plt.quiver(Vector3[0], Vector3[1], Vector6[0], Vector6[1], angles='xy', scale_units='xy', scale=1, color='skyblue')\r\n",
        "\r\n",
        "R_mag = np.sqrt(np.sum(Vector1 ** 2 + Vector4 ** 2))  ##Euclidean Distance / Euclidean Norm\r\n",
        "rise = Vector6[1]\r\n",
        "run = Vector6[0]\r\n",
        "slope = rise / run\r\n",
        "print(\"\\nThe slope is: \", slope)\r\n",
        "print(\"\\n⊹˙⋆°••°⋆˙⊹•°⋆˙⊹•°⋆˙⊹•°⋆˙⊹•°⋆˙⊹✭⊹˙⋆°•⊹˙⋆°•⊹˙⋆°•⊹˙⋆°•⊹˙⋆°••°⋆˙⊹\")\r\n",
        "\r\n",
        "plt.grid()\r\n",
        "plt.legend()\r\n",
        "plt.show()\r\n",
        "print(\"\\n⊹˙⋆°••°⋆˙⊹•°⋆˙⊹•°⋆˙⊹•°⋆˙⊹•°⋆˙⊹✭⊹˙⋆°•⊹˙⋆°•⊹˙⋆°•⊹˙⋆°•⊹˙⋆°••°⋆˙⊹\")"
      ],
      "execution_count": 5,
      "outputs": [
        {
          "output_type": "stream",
          "text": [
            "\n",
            "⊹˙⋆°••°⋆˙⊹•°⋆˙⊹•°⋆˙⊹•°⋆˙⊹•°⋆˙⊹✭⊹˙⋆°•⊹˙⋆°•⊹˙⋆°•⊹˙⋆°•⊹˙⋆°••°⋆˙⊹\n",
            "\n",
            "Adding Vector1 & Vector2 is equal to [23 51]\n",
            "\n",
            "Subtracting Vector1 & Vector3 is equal to [11 26]\n",
            "\n",
            "Subtracting [23 51] to Vector3 is equal to [22 47]\n",
            "\n",
            "⊹˙⋆°••°⋆˙⊹•°⋆˙⊹•°⋆˙⊹•°⋆˙⊹•°⋆˙⊹✭⊹˙⋆°•⊹˙⋆°•⊹˙⋆°•⊹˙⋆°•⊹˙⋆°••°⋆˙⊹\n",
            "\n",
            "Multiplying Vector3 & Vector5 is equal to [-12 -96]\n",
            "\n",
            "Dividing Vector3 & Vector4 is equal to [-1.   -0.16]\n",
            "\n",
            "Dividing [-12 -96] to Vector5 is equal to [12.    3.84]\n",
            "\n",
            "⊹˙⋆°••°⋆˙⊹•°⋆˙⊹•°⋆˙⊹•°⋆˙⊹•°⋆˙⊹✭⊹˙⋆°•⊹˙⋆°•⊹˙⋆°•⊹˙⋆°•⊹˙⋆°••°⋆˙⊹\n",
            "\n",
            "The Square of Vector2 is [121 441]\n",
            "\n",
            "The Square Root of Vector2 is [3.31662479 4.58257569]\n",
            "\n",
            "The Square of the Square Root of Vector2 is [11. 21.]\n",
            "\n",
            "⊹˙⋆°••°⋆˙⊹•°⋆˙⊹•°⋆˙⊹•°⋆˙⊹•°⋆˙⊹✭⊹˙⋆°•⊹˙⋆°•⊹˙⋆°•⊹˙⋆°•⊹˙⋆°••°⋆˙⊹\n",
            "\n",
            "The Summation of Vector2 is 32\n",
            "\n",
            "⊹˙⋆°••°⋆˙⊹•°⋆˙⊹•°⋆˙⊹•°⋆˙⊹•°⋆˙⊹✭⊹˙⋆°•⊹˙⋆°•⊹˙⋆°•⊹˙⋆°•⊹˙⋆°••°⋆˙⊹\n",
            "\n",
            "The slope is:  -0.4\n",
            "\n",
            "⊹˙⋆°••°⋆˙⊹•°⋆˙⊹•°⋆˙⊹•°⋆˙⊹•°⋆˙⊹✭⊹˙⋆°•⊹˙⋆°•⊹˙⋆°•⊹˙⋆°•⊹˙⋆°••°⋆˙⊹\n"
          ],
          "name": "stdout"
        },
        {
          "output_type": "display_data",
          "data": {
            "image/png": "[encoded data removed]",
            "text/plain": [
              "<Figure size 432x288 with 1 Axes>"
            ]
          },
          "metadata": {
            "tags": [],
            "needs_background": "light"
          }
        },
        {
          "output_type": "stream",
          "text": [
            "\n",
            "⊹˙⋆°••°⋆˙⊹•°⋆˙⊹•°⋆˙⊹•°⋆˙⊹•°⋆˙⊹✭⊹˙⋆°•⊹˙⋆°•⊹˙⋆°•⊹˙⋆°•⊹˙⋆°••°⋆˙⊹\n"
          ],
          "name": "stdout"
        }
      ]
    },
    {
      "cell_type": "code",
      "metadata": {
        "id": "tnSJjmXPeSMA"
      },
      "source": [
        ""
      ],
      "execution_count": null,
      "outputs": []
    }
  ]
}