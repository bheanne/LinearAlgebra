{
  "nbformat": 4,
  "nbformat_minor": 0,
  "metadata": {
    "kernelspec": {
      "display_name": "Python 3",
      "language": "python",
      "name": "python3"
    },
    "language_info": {
      "codemirror_mode": {
        "name": "ipython",
        "version": 3
      },
      "file_extension": ".py",
      "mimetype": "text/x-python",
      "name": "python",
      "nbconvert_exporter": "python",
      "pygments_lexer": "ipython3",
      "version": "3.8.3"
    },
    "colab": {
      "name": "Marq_LinAlg-Midterms.ipynb",
      "provenance": [],
      "toc_visible": true,
      "include_colab_link": true
    }
  },
  "cells": [
    {
      "cell_type": "markdown",
      "metadata": {
        "id": "view-in-github",
        "colab_type": "text"
      },
      "source": [
        "<a href=\"https://colab.research.google.com/github/bheanne/LinearAlgebra/blob/main/MIDTERMS%20EXAM/Marq_LinAlg_Midterms.ipynb\" target=\"_parent\"><img src=\"https://colab.research.google.com/assets/colab-badge.svg\" alt=\"Open In Colab\"/></a>"
      ]
    },
    {
      "cell_type": "markdown",
      "metadata": {
        "id": "Ph167tNh98L5"
      },
      "source": [
        "<h1>Linear Algebra (CpE210A)"
      ]
    },
    {
      "cell_type": "markdown",
      "metadata": {
        "id": "meNbK06x98MW"
      },
      "source": [
        "<h3>Midterms Project"
      ]
    },
    {
      "cell_type": "markdown",
      "metadata": {
        "id": "wtuKGEKF98MZ"
      },
      "source": [
        "Coded and submitted by:<br>\n",
        "<i>Marquita, Bhea Marrianne J.<br>\n",
        "    201911991 <br>\n",
        "   58051 </i>"
      ]
    },
    {
      "cell_type": "markdown",
      "metadata": {
        "id": "Li_Wo97k98Mc"
      },
      "source": [
        "Directions\n",
        "This Jupyter Notebook will serve as your base code for your Midterm Project. You must further format and provide complete discussion on the given topic. \n",
        "- Provide all necessary explanations for specific code blocks. \n",
        "- Provide illustrations for key results.\n",
        "- Observe clean code (intuitive variable names, proper commenting, proper code spacing)\n",
        "- Provide a summary discussion at the end\n",
        "\n",
        "Failure to use this format or failure to update the document will be given a deduction equivalent to 50% of the original score. "
      ]
    },
    {
      "cell_type": "markdown",
      "metadata": {
        "id": "z2RVsZiw98Md"
      },
      "source": [
        "### Case"
      ]
    },
    {
      "cell_type": "markdown",
      "metadata": {
        "id": "5DxBIOd198Me"
      },
      "source": [
        "Bebang is back to consult you about her business. Furthering her data analytics initiative she asks you for help to compute some relevant data. Now she is asking you to compute and visualize her sales and costs for the past year. She has given you the datasets attached to her request."
      ]
    },
    {
      "cell_type": "markdown",
      "metadata": {
        "id": "ogCc26x998Mf"
      },
      "source": [
        "### Problem"
      ]
    },
    {
      "cell_type": "markdown",
      "metadata": {
        "id": "HpeipNAL98Mg"
      },
      "source": [
        "State and explain Bebang's problem here and provide the deliverables."
      ]
    },
    {
      "cell_type": "markdown",
      "metadata": {
        "id": "PwXkjGBA98Mi"
      },
      "source": [
        "# Proof of Concept"
      ]
    },
    {
      "cell_type": "markdown",
      "metadata": {
        "id": "gRrhX_SV98Mj"
      },
      "source": [
        "Now that you have a grasp on the requirements we need to start with making a program to prove that her problem is solvable. As a Linear Algebra student, we will be focusin on applying vector operations to meet her needs. First, we need to import her data. We will use the `pandas` library for this. For more information you can look into their documentation [here](https://pandas.pydata.org/)."
      ]
    },
    {
      "cell_type": "code",
      "metadata": {
        "colab": {
          "base_uri": "https://localhost:8080/",
          "height": 196
        },
        "id": "4TDmOnP498Ml",
        "outputId": "0a042b20-71fd-48eb-fabe-a5306076074c"
      },
      "source": [
        "import pandas as pd\n",
        "\n",
        "file_prices = \"/content/bebang prices.csv\"\n",
        "file_sales = \"/content/bebang sales.csv\"\n",
        "\n",
        "df_prices = pd.read_csv(file_prices, index_col=0)\n",
        "df_sales = pd.read_csv(file_sales)\n",
        "\n",
        "\n",
        "## Let's check what's in df_prices\n",
        "df_prices"
      ],
      "execution_count": 52,
      "outputs": [
        {
          "output_type": "execute_result",
          "data": {
            "text/html": [
              "<div>\n",
              "<style scoped>\n",
              "    .dataframe tbody tr th:only-of-type {\n",
              "        vertical-align: middle;\n",
              "    }\n",
              "\n",
              "    .dataframe tbody tr th {\n",
              "        vertical-align: top;\n",
              "    }\n",
              "\n",
              "    .dataframe thead th {\n",
              "        text-align: right;\n",
              "    }\n",
              "</style>\n",
              "<table border=\"1\" class=\"dataframe\">\n",
              "  <thead>\n",
              "    <tr style=\"text-align: right;\">\n",
              "      <th></th>\n",
              "      <th>red velvet</th>\n",
              "      <th>oreo</th>\n",
              "      <th>sugar glazed</th>\n",
              "      <th>almond honey</th>\n",
              "      <th>matcha</th>\n",
              "      <th>strawberry cream</th>\n",
              "      <th>brown sugar boba</th>\n",
              "      <th>furits and nuts</th>\n",
              "      <th>dark chocolate</th>\n",
              "      <th>chocolate and orange</th>\n",
              "      <th>choco mint</th>\n",
              "      <th>choco butter naught</th>\n",
              "    </tr>\n",
              "  </thead>\n",
              "  <tbody>\n",
              "    <tr>\n",
              "      <th>price per piece</th>\n",
              "      <td>35</td>\n",
              "      <td>25</td>\n",
              "      <td>20</td>\n",
              "      <td>35</td>\n",
              "      <td>50</td>\n",
              "      <td>40</td>\n",
              "      <td>40</td>\n",
              "      <td>45</td>\n",
              "      <td>30</td>\n",
              "      <td>40</td>\n",
              "      <td>45</td>\n",
              "      <td>45</td>\n",
              "    </tr>\n",
              "    <tr>\n",
              "      <th>cost per piece</th>\n",
              "      <td>25</td>\n",
              "      <td>15</td>\n",
              "      <td>10</td>\n",
              "      <td>20</td>\n",
              "      <td>35</td>\n",
              "      <td>31</td>\n",
              "      <td>30</td>\n",
              "      <td>25</td>\n",
              "      <td>15</td>\n",
              "      <td>25</td>\n",
              "      <td>32</td>\n",
              "      <td>31</td>\n",
              "    </tr>\n",
              "  </tbody>\n",
              "</table>\n",
              "</div>"
            ],
            "text/plain": [
              "                 red velvet  oreo  ...  choco mint  choco butter naught\n",
              "price per piece          35    25  ...          45                   45\n",
              "cost per piece           25    15  ...          32                   31\n",
              "\n",
              "[2 rows x 12 columns]"
            ]
          },
          "metadata": {
            "tags": []
          },
          "execution_count": 52
        }
      ]
    },
    {
      "cell_type": "code",
      "metadata": {
        "colab": {
          "base_uri": "https://localhost:8080/",
          "height": 421
        },
        "id": "wGaBOhwI98Mm",
        "outputId": "c89e7e03-468b-44ae-c21a-66317364857e"
      },
      "source": [
        "## Let's check the sales dataframe\n",
        "df_sales"
      ],
      "execution_count": 53,
      "outputs": [
        {
          "output_type": "execute_result",
          "data": {
            "text/html": [
              "<div>\n",
              "<style scoped>\n",
              "    .dataframe tbody tr th:only-of-type {\n",
              "        vertical-align: middle;\n",
              "    }\n",
              "\n",
              "    .dataframe tbody tr th {\n",
              "        vertical-align: top;\n",
              "    }\n",
              "\n",
              "    .dataframe thead th {\n",
              "        text-align: right;\n",
              "    }\n",
              "</style>\n",
              "<table border=\"1\" class=\"dataframe\">\n",
              "  <thead>\n",
              "    <tr style=\"text-align: right;\">\n",
              "      <th></th>\n",
              "      <th>flavor</th>\n",
              "      <th>january</th>\n",
              "      <th>february</th>\n",
              "      <th>march</th>\n",
              "      <th>april</th>\n",
              "      <th>may</th>\n",
              "      <th>june</th>\n",
              "      <th>july</th>\n",
              "      <th>august</th>\n",
              "      <th>september</th>\n",
              "      <th>october</th>\n",
              "      <th>november</th>\n",
              "      <th>december</th>\n",
              "    </tr>\n",
              "  </thead>\n",
              "  <tbody>\n",
              "    <tr>\n",
              "      <th>0</th>\n",
              "      <td>red velvet</td>\n",
              "      <td>781</td>\n",
              "      <td>524</td>\n",
              "      <td>364</td>\n",
              "      <td>157</td>\n",
              "      <td>894</td>\n",
              "      <td>56</td>\n",
              "      <td>89</td>\n",
              "      <td>41</td>\n",
              "      <td>23</td>\n",
              "      <td>78</td>\n",
              "      <td>231</td>\n",
              "      <td>899</td>\n",
              "    </tr>\n",
              "    <tr>\n",
              "      <th>1</th>\n",
              "      <td>oreo</td>\n",
              "      <td>210</td>\n",
              "      <td>324</td>\n",
              "      <td>344</td>\n",
              "      <td>32</td>\n",
              "      <td>123</td>\n",
              "      <td>1</td>\n",
              "      <td>3</td>\n",
              "      <td>0</td>\n",
              "      <td>1</td>\n",
              "      <td>6</td>\n",
              "      <td>312</td>\n",
              "      <td>548</td>\n",
              "    </tr>\n",
              "    <tr>\n",
              "      <th>2</th>\n",
              "      <td>sugar glazed</td>\n",
              "      <td>599</td>\n",
              "      <td>674</td>\n",
              "      <td>854</td>\n",
              "      <td>14</td>\n",
              "      <td>467</td>\n",
              "      <td>78</td>\n",
              "      <td>36</td>\n",
              "      <td>48</td>\n",
              "      <td>75</td>\n",
              "      <td>98</td>\n",
              "      <td>781</td>\n",
              "      <td>1602</td>\n",
              "    </tr>\n",
              "    <tr>\n",
              "      <th>3</th>\n",
              "      <td>almond honey</td>\n",
              "      <td>124</td>\n",
              "      <td>112</td>\n",
              "      <td>114</td>\n",
              "      <td>23</td>\n",
              "      <td>198</td>\n",
              "      <td>12</td>\n",
              "      <td>32</td>\n",
              "      <td>41</td>\n",
              "      <td>23</td>\n",
              "      <td>36</td>\n",
              "      <td>300</td>\n",
              "      <td>566</td>\n",
              "    </tr>\n",
              "    <tr>\n",
              "      <th>4</th>\n",
              "      <td>matcha</td>\n",
              "      <td>645</td>\n",
              "      <td>498</td>\n",
              "      <td>885</td>\n",
              "      <td>98</td>\n",
              "      <td>177</td>\n",
              "      <td>98</td>\n",
              "      <td>43</td>\n",
              "      <td>96</td>\n",
              "      <td>26</td>\n",
              "      <td>71</td>\n",
              "      <td>549</td>\n",
              "      <td>897</td>\n",
              "    </tr>\n",
              "    <tr>\n",
              "      <th>5</th>\n",
              "      <td>strawberry cream</td>\n",
              "      <td>210</td>\n",
              "      <td>372</td>\n",
              "      <td>369</td>\n",
              "      <td>78</td>\n",
              "      <td>163</td>\n",
              "      <td>26</td>\n",
              "      <td>45</td>\n",
              "      <td>22</td>\n",
              "      <td>54</td>\n",
              "      <td>41</td>\n",
              "      <td>207</td>\n",
              "      <td>456</td>\n",
              "    </tr>\n",
              "    <tr>\n",
              "      <th>6</th>\n",
              "      <td>brown sugar boba</td>\n",
              "      <td>981</td>\n",
              "      <td>380</td>\n",
              "      <td>154</td>\n",
              "      <td>14</td>\n",
              "      <td>147</td>\n",
              "      <td>15</td>\n",
              "      <td>98</td>\n",
              "      <td>33</td>\n",
              "      <td>23</td>\n",
              "      <td>36</td>\n",
              "      <td>552</td>\n",
              "      <td>633</td>\n",
              "    </tr>\n",
              "    <tr>\n",
              "      <th>7</th>\n",
              "      <td>furits and nuts</td>\n",
              "      <td>478</td>\n",
              "      <td>462</td>\n",
              "      <td>354</td>\n",
              "      <td>49</td>\n",
              "      <td>89</td>\n",
              "      <td>0</td>\n",
              "      <td>1</td>\n",
              "      <td>0</td>\n",
              "      <td>1</td>\n",
              "      <td>8</td>\n",
              "      <td>335</td>\n",
              "      <td>214</td>\n",
              "    </tr>\n",
              "    <tr>\n",
              "      <th>8</th>\n",
              "      <td>dark chocolate</td>\n",
              "      <td>598</td>\n",
              "      <td>203</td>\n",
              "      <td>36</td>\n",
              "      <td>96</td>\n",
              "      <td>789</td>\n",
              "      <td>4</td>\n",
              "      <td>5</td>\n",
              "      <td>0</td>\n",
              "      <td>8</td>\n",
              "      <td>0</td>\n",
              "      <td>789</td>\n",
              "      <td>458</td>\n",
              "    </tr>\n",
              "    <tr>\n",
              "      <th>9</th>\n",
              "      <td>chocolate and orange</td>\n",
              "      <td>324</td>\n",
              "      <td>123</td>\n",
              "      <td>48</td>\n",
              "      <td>32</td>\n",
              "      <td>65</td>\n",
              "      <td>74</td>\n",
              "      <td>78</td>\n",
              "      <td>45</td>\n",
              "      <td>89</td>\n",
              "      <td>100</td>\n",
              "      <td>632</td>\n",
              "      <td>231</td>\n",
              "    </tr>\n",
              "    <tr>\n",
              "      <th>10</th>\n",
              "      <td>choco mint</td>\n",
              "      <td>458</td>\n",
              "      <td>412</td>\n",
              "      <td>78</td>\n",
              "      <td>78</td>\n",
              "      <td>78</td>\n",
              "      <td>7</td>\n",
              "      <td>3</td>\n",
              "      <td>8</td>\n",
              "      <td>2</td>\n",
              "      <td>1</td>\n",
              "      <td>323</td>\n",
              "      <td>564</td>\n",
              "    </tr>\n",
              "    <tr>\n",
              "      <th>11</th>\n",
              "      <td>choco butter naught</td>\n",
              "      <td>778</td>\n",
              "      <td>586</td>\n",
              "      <td>645</td>\n",
              "      <td>100</td>\n",
              "      <td>987</td>\n",
              "      <td>63</td>\n",
              "      <td>36</td>\n",
              "      <td>89</td>\n",
              "      <td>78</td>\n",
              "      <td>99</td>\n",
              "      <td>784</td>\n",
              "      <td>2310</td>\n",
              "    </tr>\n",
              "  </tbody>\n",
              "</table>\n",
              "</div>"
            ],
            "text/plain": [
              "                  flavor  january  february  ...  october  november  december\n",
              "0             red velvet      781       524  ...       78       231       899\n",
              "1                   oreo      210       324  ...        6       312       548\n",
              "2           sugar glazed      599       674  ...       98       781      1602\n",
              "3           almond honey      124       112  ...       36       300       566\n",
              "4                 matcha      645       498  ...       71       549       897\n",
              "5       strawberry cream      210       372  ...       41       207       456\n",
              "6       brown sugar boba      981       380  ...       36       552       633\n",
              "7        furits and nuts      478       462  ...        8       335       214\n",
              "8         dark chocolate      598       203  ...        0       789       458\n",
              "9   chocolate and orange      324       123  ...      100       632       231\n",
              "10            choco mint      458       412  ...        1       323       564\n",
              "11   choco butter naught      778       586  ...       99       784      2310\n",
              "\n",
              "[12 rows x 13 columns]"
            ]
          },
          "metadata": {
            "tags": []
          },
          "execution_count": 53
        }
      ]
    },
    {
      "cell_type": "markdown",
      "metadata": {
        "id": "zc1avmT398Mn"
      },
      "source": [
        "## Part 1: Monthly Sales"
      ]
    },
    {
      "cell_type": "code",
      "metadata": {
        "colab": {
          "base_uri": "https://localhost:8080/"
        },
        "id": "J-nDnHJ798Mo",
        "outputId": "bcae4bc5-2506-4a6b-e45d-0c32b3f6c848"
      },
      "source": [
        "import numpy as np\n",
        "### Vectorizing the data\n",
        "\n",
        "sales_mat = np.array(df_sales.set_index('flavor'))\n",
        "prices_mat = np.array(df_prices)[0] ## reshape this vector to the appropriate size\n",
        "costs_mat = np.array(df_prices)[1] ## reshape this vector to the appropriate size\n",
        "\n",
        "## Do not alter these lines\n",
        "print(sales_mat.shape)\n",
        "print(prices_mat.shape)\n",
        "print(costs_mat.shape)\n",
        "# Expected Output\n",
        "# (12, 12)\n",
        "# (12, 1)\n",
        "# (12, 1)"
      ],
      "execution_count": 55,
      "outputs": [
        {
          "output_type": "stream",
          "text": [
            "(12, 12)\n",
            "(12,)\n",
            "(12,)\n"
          ],
          "name": "stdout"
        }
      ]
    },
    {
      "cell_type": "markdown",
      "metadata": {
        "id": "uSrPFf1l98Mp"
      },
      "source": [
        "#### Formulas"
      ]
    },
    {
      "cell_type": "markdown",
      "metadata": {
        "id": "lVh1emY_98Mq"
      },
      "source": [
        "Take note that the fomula for revenue is: <br>\n",
        "$revenue = sales * price $ <br>\n",
        "In this case, think that revenue, sales, and price are vectors instead of individual values <br>\n",
        "The formula of cost per item sold is: <br>\n",
        "$cost_{sold} = sales * cost$ <br>\n",
        "The formula for profit is: <br>\n",
        "$profit = revenue - cost_{sold}$ <br>\n",
        "Solving for the monthly profit will be the sum of all profits made on that month."
      ]
    },
    {
      "cell_type": "code",
      "metadata": {
        "id": "Bc7Vpr6f98Mr"
      },
      "source": [
        "#Create a function that *returns* and prints the monthly sales and profit for each month \n",
        "def monthly_sales(price, cost, sales):\n",
        "    monthly_revenue = sales*price\n",
        "    monthly_costs = sales*cost\n",
        "    monthly_profits = monthly_revenue - monthly_costs\n",
        "\n",
        "    m_profits = monthly_profits.T\n",
        "    profitmonth = m_profits.sum(axis = 1)\n",
        "\n",
        "    df_monthlyprofit = pd.DataFrame(profitmonth)\n",
        "    df_monthlyprofit.columns = [\"Monthly Profits\"]\n",
        "    df_monthlyprofit.index = ['January','February',\n",
        "                       'March','April','May',\n",
        "                       'June','July','August',\n",
        "                       'September','October',\n",
        "                       'November','December']\n",
        "\n",
        "    print(df_monthlyprofit)\n",
        "    return monthly_revenue.flatten(), monthly_costs.flatten(), monthly_profits.flatten()"
      ],
      "execution_count": 56,
      "outputs": []
    },
    {
      "cell_type": "code",
      "metadata": {
        "colab": {
          "base_uri": "https://localhost:8080/"
        },
        "id": "puFYLabt98Mt",
        "outputId": "3f90e693-a1f0-4c0f-9795-3f655520985d"
      },
      "source": [
        "### Do not alter this cell\n",
        "month_rev, month_cost, month_profit = monthly_sales(prices_mat, costs_mat, sales_mat)\n",
        "### print the values\n",
        "print(\"\\nMonthly Revenue\")\n",
        "print(month_rev)\n",
        "print(\"\\nMonthly Cost\")\n",
        "print(month_cost)\n",
        "print(\"\\nMonthly Profit\")\n",
        "print(month_profit)"
      ],
      "execution_count": 57,
      "outputs": [
        {
          "output_type": "stream",
          "text": [
            "           Monthly Profits\n",
            "January              61860\n",
            "February             46700\n",
            "March                42450\n",
            "April                11565\n",
            "May                  62655\n",
            "June                  3906\n",
            "July                  4690\n",
            "August                8460\n",
            "September             6045\n",
            "October               8610\n",
            "November             75335\n",
            "December            131292\n",
            "\n",
            "Monthly Revenue\n",
            "[ 27335  13100   7280   5495  44700   2240   3560   1845    690   3120\n",
            "  10395  40455   7350   8100   6880   1120   6150     40    120      0\n",
            "     30    240  14040  24660  20965  16850  17080    490  23350   3120\n",
            "   1440   2160   2250   3920  35145  72090   4340   2800   2280    805\n",
            "   9900    480   1280   1845    690   1440  13500  25470  22575  12450\n",
            "  17700   3430   8850   3920   1720   4320    780   2840  24705  40365\n",
            "   7350   9300   7380   2730   8150   1040   1800    990   1620   1640\n",
            "   9315  20520  34335   9500   3080    490   7350    600   3920   1485\n",
            "    690   1440  24840  28485  16730  11550   7080   1715   4450      0\n",
            "     40      0     30    320  15075   9630  20930   5075    720   3360\n",
            "  39450    160    200      0    240      0  35505  20610  11340   3075\n",
            "    960   1120   3250   2960   3120   2025   2670   4000  28440  10395\n",
            "  16030  10300   1560   2730   3900    280    120    360     60     40\n",
            "  14535  25380  27230  14650  12900   3500  49350   2520   1440   4005\n",
            "   2340   3960  35280 103950]\n",
            "\n",
            "Monthly Cost\n",
            "[19525  7860  3640  3140 31290  1736  2670  1025   345  1950  7392 27869\n",
            "  5250  4860  3440   640  4305    31    90     0    15   150  9984 16988\n",
            " 14975 10110  8540   280 16345  2418  1080  1200  1125  2450 24992 49662\n",
            "  3100  1680  1140   460  6930   372   960  1025   345   900  9600 17546\n",
            " 16125  7470  8850  1960  6195  3038  1290  2400   390  1775 17568 27807\n",
            "  5250  5580  3690  1560  5705   806  1350   550   810  1025  6624 14136\n",
            " 24525  5700  1540   280  5145   465  2940   825   345   900 17664 19623\n",
            " 11950  6930  3540   980  3115     0    30     0    15   200 10720  6634\n",
            " 14950  3045   360  1920 27615   124   150     0   120     0 25248 14198\n",
            "  8100  1845   480   640  2275  2294  2340  1125  1335  2500 20224  7161\n",
            " 11450  6180   780  1560  2730   217    90   200    30    25 10336 17484\n",
            " 19450  8790  6450  2000 34545  1953  1080  2225  1170  2475 25088 71610]\n",
            "\n",
            "Monthly Profit\n",
            "[ 7810  5240  3640  2355 13410   504   890   820   345  1170  3003 12586\n",
            "  2100  3240  3440   480  1845     9    30     0    15    90  4056  7672\n",
            "  5990  6740  8540   210  7005   702   360   960  1125  1470 10153 22428\n",
            "  1240  1120  1140   345  2970   108   320   820   345   540  3900  7924\n",
            "  6450  4980  8850  1470  2655   882   430  1920   390  1065  7137 12558\n",
            "  2100  3720  3690  1170  2445   234   450   440   810   615  2691  6384\n",
            "  9810  3800  1540   210  2205   135   980   660   345   540  7176  8862\n",
            "  4780  4620  3540   735  1335     0    10     0    15   120  4355  2996\n",
            "  5980  2030   360  1440 11835    36    50     0   120     0 10257  6412\n",
            "  3240  1230   480   480   975   666   780   900  1335  1500  8216  3234\n",
            "  4580  4120   780  1170  1170    63    30   160    30    15  4199  7896\n",
            "  7780  5860  6450  1500 14805   567   360  1780  1170  1485 10192 32340]\n"
          ],
          "name": "stdout"
        }
      ]
    },
    {
      "cell_type": "markdown",
      "metadata": {
        "id": "BxtxkDaI98Mu"
      },
      "source": [
        "## Part 2: Flavor Sales"
      ]
    },
    {
      "cell_type": "code",
      "metadata": {
        "id": "-v7ceCQx98Mv"
      },
      "source": [
        "#Create a function that *returns* and prints the flavor profits for the whole year \n",
        "b = []\n",
        "\n",
        "def flavor_sales(price, cost, sales):\n",
        "    flavor_revenue = sales*price\n",
        "    flavor_costs = sales*cost\n",
        "    flavor_profits = flavor_revenue - flavor_costs  \n",
        "\n",
        "    red_velvet = flavor_profits[0].sum()\n",
        "    b.append(red_velvet)\n",
        "\n",
        "    oreo = flavor_profits[1].sum()\n",
        "    b.append(oreo)\n",
        "\n",
        "    sugar_glazed = flavor_profits[2].sum()\n",
        "    b.append(sugar_glazed)\n",
        "\n",
        "    almond_honey = flavor_profits[3].sum()\n",
        "    b.append(almond_honey)\n",
        "\n",
        "    matcha =  flavor_profits[4].sum()\n",
        "    b.append(matcha)\n",
        "\n",
        "    strawberry_cream =  flavor_profits[5].sum()\n",
        "    b.append(strawberry_cream)\n",
        "\n",
        "    brown_sugar_boba =  flavor_profits[6].sum()\n",
        "    b.append(brown_sugar_boba)\n",
        "\n",
        "    fruits_and_nuts =  flavor_profits[7].sum()\n",
        "    b.append(fruits_and_nuts)\n",
        "\n",
        "    dark_chocolate =  flavor_profits[8].sum()\n",
        "    b.append(dark_chocolate)\n",
        "\n",
        "    chocolate_and_orange =  flavor_profits[9].sum()\n",
        "    b.append(chocolate_and_orange)\n",
        "\n",
        "    choco_mint =  flavor_profits[10].sum()\n",
        "    b.append(choco_mint)\n",
        "\n",
        "    choco_butter_naught =  flavor_profits[11].sum()\n",
        "    b.append(choco_butter_naught)\n",
        "\n",
        "    ##appending each of the flavors or products yearly profits into df_flavors\n",
        "\n",
        "    df_flavors = pd.DataFrame(b)\n",
        "    df_flavors.columns = [\"Yearly Profit\"]\n",
        "    df_flavors.index = [\"Red Velvet\",\"Oreo\",\"Sugar Glazed\",\"Almond Honey\",\"Matcha\",\"Strawberry Cream\",\"Brown Sugar Boba\",\n",
        "                        \"Fruits and Nuts\",\"Dark Chocolate\",\"Chocolate and Orange\",\"Choco Mint\",\"Choco Butter Naught\"]\n",
        "    print(df_flavors)\n",
        "\n",
        "    return flavor_profits.flatten()"
      ],
      "execution_count": 60,
      "outputs": []
    },
    {
      "cell_type": "code",
      "metadata": {
        "colab": {
          "base_uri": "https://localhost:8080/"
        },
        "id": "eKb_Xxss98Mx",
        "outputId": "a9ad9193-8672-422d-a718-f62842ae1e24"
      },
      "source": [
        "### Do not alter this cell\n",
        "flavor_profit = flavor_sales(prices_mat, costs_mat, sales_mat)\n",
        "### print the values\n",
        "print(\"\\nProfit: \", flavor_profit)"
      ],
      "execution_count": 61,
      "outputs": [
        {
          "output_type": "stream",
          "text": [
            "                      Yearly Profit\n",
            "Red Velvet                    51773\n",
            "Oreo                          22977\n",
            "Sugar Glazed                  65683\n",
            "Almond Honey                  20772\n",
            "Matcha                        48787\n",
            "Strawberry Cream              24749\n",
            "Brown Sugar Boba              36263\n",
            "Fruits and Nuts               22506\n",
            "Dark Chocolate                38520\n",
            "Chocolate and Orange          23036\n",
            "Choco Mint                    24213\n",
            "Choco Butter Naught           84289\n",
            "\n",
            "Profit:  [ 7810  5240  3640  2355 13410   504   890   820   345  1170  3003 12586\n",
            "  2100  3240  3440   480  1845     9    30     0    15    90  4056  7672\n",
            "  5990  6740  8540   210  7005   702   360   960  1125  1470 10153 22428\n",
            "  1240  1120  1140   345  2970   108   320   820   345   540  3900  7924\n",
            "  6450  4980  8850  1470  2655   882   430  1920   390  1065  7137 12558\n",
            "  2100  3720  3690  1170  2445   234   450   440   810   615  2691  6384\n",
            "  9810  3800  1540   210  2205   135   980   660   345   540  7176  8862\n",
            "  4780  4620  3540   735  1335     0    10     0    15   120  4355  2996\n",
            "  5980  2030   360  1440 11835    36    50     0   120     0 10257  6412\n",
            "  3240  1230   480   480   975   666   780   900  1335  1500  8216  3234\n",
            "  4580  4120   780  1170  1170    63    30   160    30    15  4199  7896\n",
            "  7780  5860  6450  1500 14805   567   360  1780  1170  1485 10192 32340]\n"
          ],
          "name": "stdout"
        }
      ]
    },
    {
      "cell_type": "code",
      "metadata": {
        "colab": {
          "base_uri": "https://localhost:8080/"
        },
        "id": "wZvt0AyP98My",
        "outputId": "dd4b1e7d-54da-4034-cdda-7d70ee864a67"
      },
      "source": [
        "### identify the best-selling and least-selling flavors. You can use np.sort() or np.argmax() for this.\n",
        "df_sales[\"sum\"] = df_sales.sum(axis = 1)\n",
        "df_sales.sort_values(\"sum\",axis=0, ascending=True, inplace=True, na_position='first')\n",
        "print('Monthly Sales of Flavors: ')\n",
        "print(df_sales)\n",
        "threewwflavors = [(df_sales.iloc[0]['flavor']),(df_sales.iloc[1]['flavor']),(df_sales.iloc[2]['flavor'])]\n",
        "print(\"The Least Selling 3 Flavors are \", threewwflavors)\n",
        "print('')\n",
        "threebestflavors = [(df_sales.iloc[11]['flavor']),(df_sales.iloc[10]['flavor']),(df_sales.iloc[9]['flavor'])]\n",
        "print(\"The Best Selling Three Flavors are \", threebestflavors)\n"
      ],
      "execution_count": 66,
      "outputs": [
        {
          "output_type": "stream",
          "text": [
            "Monthly Sales of Flavors: \n",
            "                  flavor  january  february  ...  november  december    sum\n",
            "3           almond honey      124       112  ...       300       566   4743\n",
            "9   chocolate and orange      324       123  ...       632       231   5523\n",
            "1                   oreo      210       324  ...       312       548   5712\n",
            "7        furits and nuts      478       462  ...       335       214   5973\n",
            "10            choco mint      458       412  ...       323       564   6036\n",
            "5       strawberry cream      210       372  ...       207       456   6129\n",
            "8         dark chocolate      598       203  ...       789       458   8958\n",
            "6       brown sugar boba      981       380  ...       552       633   9198\n",
            "4                 matcha      645       498  ...       549       897  12249\n",
            "0             red velvet      781       524  ...       231       899  12411\n",
            "2           sugar glazed      599       674  ...       781      1602  15978\n",
            "11   choco butter naught      778       586  ...       784      2310  19665\n",
            "\n",
            "[12 rows x 14 columns]\n",
            "The Least Selling 3 Flavors are  ['almond honey', 'chocolate and orange', 'oreo']\n",
            "\n",
            "The Best Selling Three Flavors are  ['choco butter naught', 'sugar glazed', 'red velvet']\n"
          ],
          "name": "stdout"
        }
      ]
    },
    {
      "cell_type": "markdown",
      "metadata": {
        "id": "3fu4Fb0L98Mz"
      },
      "source": [
        "## Part 3: Visualizing the Data (Optional for +40%)\n",
        "You can try to visualize the data in the most comprehensible chart that you can use."
      ]
    },
    {
      "cell_type": "code",
      "metadata": {
        "id": "HV5xUcWV98M0"
      },
      "source": [
        "import matplotlib.pyplot as plt\n",
        "import matplotlib\n",
        "import seaborn as sns\n",
        "\n",
        "%matplotlib inline"
      ],
      "execution_count": null,
      "outputs": []
    },
    {
      "cell_type": "markdown",
      "metadata": {
        "id": "dcuIYSL198M1"
      },
      "source": [
        "#### Entire Dataset"
      ]
    },
    {
      "cell_type": "code",
      "metadata": {
        "colab": {
          "base_uri": "https://localhost:8080/",
          "height": 677
        },
        "id": "7pCSdWm998M2",
        "outputId": "3f90178c-db47-4e40-b423-3990e47ae689"
      },
      "source": [
        "print(df_sales.plot('flavor',[1,2,3,4,5,6,7,8,9,10,11,12],kind = 'bar'))\n",
        "print(df_prices.plot('red velvet',[1,2,3,4,5,6,7,8,9,10,11],kind = 'bar'))"
      ],
      "execution_count": 67,
      "outputs": [
        {
          "output_type": "stream",
          "text": [
            "AxesSubplot(0.125,0.125;0.775x0.755)\n",
            "AxesSubplot(0.125,0.125;0.775x0.755)\n"
          ],
          "name": "stdout"
        },
        {
          "output_type": "display_data",
          "data": {
            "image/png": "[encoded data removed]",
            "text/plain": [
              "<Figure size 432x288 with 1 Axes>"
            ]
          },
          "metadata": {
            "tags": [],
            "needs_background": "light"
          }
        },
        {
          "output_type": "display_data",
          "data": {
            "image/png": "[encoded data removed]",
            "text/plain": [
              "<Figure size 432x288 with 1 Axes>"
            ]
          },
          "metadata": {
            "tags": [],
            "needs_background": "light"
          }
        }
      ]
    },
    {
      "cell_type": "markdown",
      "metadata": {
        "id": "2dzk4PfG98M3"
      },
      "source": [
        "#### Monthly Sales"
      ]
    },
    {
      "cell_type": "code",
      "metadata": {
        "id": "sLTgQx7W98M4"
      },
      "source": [
        ""
      ],
      "execution_count": 70,
      "outputs": []
    },
    {
      "cell_type": "markdown",
      "metadata": {
        "id": "F0qqVxl598M5"
      },
      "source": [
        "#### Flavor Sales"
      ]
    },
    {
      "cell_type": "code",
      "metadata": {
        "colab": {
          "base_uri": "https://localhost:8080/",
          "height": 395
        },
        "id": "APYRc6Tn98M5",
        "outputId": "db11fcc0-96d9-4657-c213-4c8ef9b91854"
      },
      "source": [
        "print(df_sales.plot('flavor',[1,2,3,4,5,6,7,8,9,10,11,12],kind = 'bar'))"
      ],
      "execution_count": 68,
      "outputs": [
        {
          "output_type": "stream",
          "text": [
            "AxesSubplot(0.125,0.125;0.775x0.755)\n"
          ],
          "name": "stdout"
        },
        {
          "output_type": "display_data",
          "data": {
            "image/png": "[encoded data removed]",
            "text/plain": [
              "<Figure size 432x288 with 1 Axes>"
            ]
          },
          "metadata": {
            "tags": [],
            "needs_background": "light"
          }
        }
      ]
    },
    {
      "cell_type": "markdown",
      "metadata": {
        "id": "ujFDIz8j98M6"
      },
      "source": [
        "## Part 4: Business Recommendation and Conclusion\n",
        "Present the findings of your data analysis and provide recommendations"
      ]
    },
    {
      "cell_type": "markdown",
      "metadata": {
        "id": "-k5UvuOVOXGy"
      },
      "source": [
        "The three best selling flavors from Bebang's products are red velvet, choco butter naught, and sugar glazed. The months that decreases in sales are June to November while from December to March are the months that profit gradually increases. \n",
        "The best way that Aling Bebang can do to increase or maintain her profits as months pass by is do a survey or ask her valuable customers for their suggested new flavors and have some eye-catching promos of her products in months that sales aren't that high."
      ]
    }
  ]
}